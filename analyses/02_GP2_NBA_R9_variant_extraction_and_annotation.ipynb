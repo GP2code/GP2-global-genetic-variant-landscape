{
 "cells": [
  {
   "cell_type": "markdown",
   "id": "82347524-1627-45c7-bfec-89eddf576dcd",
   "metadata": {},
   "source": [
    "# Extract variant carriers and perform annotation using GP2 NBA data (PLINK files from Release 9)"
   ]
  },
  {
   "cell_type": "markdown",
   "id": "25544c60",
   "metadata": {},
   "source": [
    "## Exploring the Global Landscape of Rare Causal and Common High-Risk Variants in Parkinson’s Disease"
   ]
  },
  {
   "cell_type": "markdown",
   "id": "47725d67",
   "metadata": {},
   "source": [
    "`GP2 ❤️ Open Science 😍`\n",
    "\n",
    "## Description:\n",
    "\n",
    "This notebook contains the code and workflow used in the study: **“Exploring the Global Landscape of Rare Causal and Common High-Risk Variants in Parkinson’s Disease”**.\n",
    "\n",
    "In this notebook we extract variant carriers and perform annotation using GP2 NBA data (PLINK files from Release 9)."
   ]
  },
  {
   "cell_type": "markdown",
   "id": "1d8daf46",
   "metadata": {},
   "source": [
    "### Outline:\n",
    "\n",
    "* **0. Set Up**\n",
    "\n",
    "* **1. Install software and define paths**\n",
    "    * 1.1. Install plink\n",
    "    * 1.2. Install bcftools\n",
    "    * 1.3. Install ANNOVAR\n",
    "    * 1.4 Create working directory and set paths\n",
    "\n",
    "* **2. Create and edit .range file with genes of interest and genomic coordinates**\n",
    "\n",
    "* **3. Prepare genotyping files**\n",
    "    * 3.1 Template to get chromosomal positions for NBA marker IDs\n",
    "    * 3.2 Convert NBA marker IDs from genotyping files into chromosomal positions\n",
    "\n",
    "* **4. Extract variants in genes of interest and annotation**\n",
    "    * AAC (as an example)"
   ]
  },
  {
   "cell_type": "markdown",
   "id": "d0000526-e50f-4ced-9981-f2f7dcf73b27",
   "metadata": {},
   "source": [
    "## 0. Set Up"
   ]
  },
  {
   "cell_type": "code",
   "execution_count": null,
   "id": "c9f3a398-9bfe-4932-8d3f-2a135f2973ac",
   "metadata": {
    "tags": []
   },
   "outputs": [],
   "source": [
    "## Use the os package to interact with the environment\n",
    "import os\n",
    "\n",
    "## Bring in Pandas for Dataframe functionality\n",
    "import pandas as pd\n",
    "\n",
    "import subprocess\n",
    "\n",
    "## Numpy for basics\n",
    "import numpy as np\n",
    "\n",
    "## Use pathlib for file path manipulation\n",
    "import pathlib\n",
    "\n",
    "## Use StringIO for working with file contents\n",
    "from io import StringIO\n",
    "\n",
    "## Enable IPython to display matplotlib graphs\n",
    "import matplotlib.pyplot as plt\n",
    "%matplotlib inline\n",
    "\n",
    "## Import the iPython HTML rendering for displaying links to Google Cloud Console\n",
    "from IPython.core.display import display, HTML\n",
    "\n",
    "## Import urllib modules for building URLs to Google Cloud Console\n",
    "import urllib.parse\n",
    "\n",
    "## BigQuery for querying data\n",
    "from google.cloud import bigquery\n",
    "\n",
    "## Import Sys\n",
    "import sys as sys"
   ]
  },
  {
   "cell_type": "markdown",
   "id": "16d61ea8",
   "metadata": {},
   "source": [
    "## 1. Install software and define paths"
   ]
  },
  {
   "cell_type": "markdown",
   "id": "11eec060-bcfc-485b-a09a-3a2869224e76",
   "metadata": {},
   "source": [
    "### 1.1. Install plink"
   ]
  },
  {
   "cell_type": "code",
   "execution_count": null,
   "id": "28611c6d-1045-469a-8089-9f5914f1abd9",
   "metadata": {
    "scrolled": true,
    "tags": []
   },
   "outputs": [],
   "source": [
    "%%capture\n",
    "%%bash\n",
    "\n",
    "# Install plink 1.9\n",
    "mkdir -p ~/tools\n",
    "cd ~/tools/\n",
    "if test -e ~/tools/plink; then\n",
    "    echo \"Plink is already installed\"\n",
    "else\n",
    "    echo \"Plink is not installed\"\n",
    "    cd ~/tools/\n",
    "\n",
    "    wget http://s3.amazonaws.com/plink1-assets/plink_linux_x86_64_20190304.zip \n",
    "\n",
    "    unzip -o plink_linux_x86_64_20190304.zip\n",
    "    mv plink plink1.9\n",
    "fi"
   ]
  },
  {
   "cell_type": "code",
   "execution_count": null,
   "id": "f43dfbbe-ab00-4b8f-9d9e-5484de043be4",
   "metadata": {
    "tags": []
   },
   "outputs": [],
   "source": [
    "%%bash\n",
    "\n",
    "# chmod plink 1.9 to make sure you have permission to run the program\n",
    "chmod u+x ~/tools/plink1.9"
   ]
  },
  {
   "cell_type": "code",
   "execution_count": null,
   "id": "c3fb3c42-2d12-474b-8c75-c9aa04a16bf5",
   "metadata": {
    "tags": []
   },
   "outputs": [],
   "source": [
    "%%capture\n",
    "%%bash\n",
    "\n",
    "# Install plink 2.0\n",
    "cd ~/tools/\n",
    "if test -e ~/tools/plink2; then\n",
    "    echo \"Plink2 is already installed\"\n",
    "else\n",
    "    echo \"Plink2 is not installed\"\n",
    "    cd ~/tools/\n",
    "\n",
    "    wget http://s3.amazonaws.com/plink2-assets/plink2_linux_x86_64_latest.zip\n",
    "\n",
    "    unzip -o plink2_linux_x86_64_latest.zip\n",
    "fi"
   ]
  },
  {
   "cell_type": "code",
   "execution_count": null,
   "id": "5d2c85f5-6e56-41f5-b236-0646a6033097",
   "metadata": {
    "tags": []
   },
   "outputs": [],
   "source": [
    "%%bash\n",
    "\n",
    "# chmod plink 2 to make sure you have permission to run the program\n",
    "chmod u+x ~/tools/plink2"
   ]
  },
  {
   "cell_type": "markdown",
   "id": "d5e5f1ce-1ccd-455b-87ee-205dcbe263e2",
   "metadata": {},
   "source": [
    "### 1.2 Install bcftools"
   ]
  },
  {
   "cell_type": "code",
   "execution_count": null,
   "id": "edb9d4cb-9e71-4930-aeb5-acac586b4a3d",
   "metadata": {
    "tags": []
   },
   "outputs": [],
   "source": [
    "%%capture\n",
    "%%bash \n",
    "\n",
    "# Install bcftools\n",
    "cd /home/jupyter/tools/\n",
    "\n",
    "if test -e /home/jupyter/tools/bcftools; then\n",
    "    echo \"bcftools is already installed in /home/jupyter/tools/\"\n",
    "else\n",
    "    echo -e \"Downloading bcftools \\n    -------\"\n",
    "    git clone --recurse-submodules https://github.com/samtools/htslib.git\n",
    "    git clone https://github.com/samtools/bcftools.git\n",
    "    cd bcftools\n",
    "    make\n",
    "    echo -e \"\\n bcftools downloaded and unzipped in /home/jupyter/tools \\n \"\n",
    "\n",
    "fi"
   ]
  },
  {
   "cell_type": "code",
   "execution_count": null,
   "id": "e58b1c32-e3bd-4176-84c6-97dcd97c53df",
   "metadata": {
    "tags": []
   },
   "outputs": [],
   "source": [
    "%%bash\n",
    "\n",
    "# chmod bcftools to make sure you have permission to run the program\n",
    "chmod +x /home/jupyter/tools/bcftools"
   ]
  },
  {
   "cell_type": "markdown",
   "id": "bd601ef7-706f-4ebc-a93d-94bbc1d3f32a",
   "metadata": {},
   "source": [
    "### 1.3 Install ANNOVAR"
   ]
  },
  {
   "cell_type": "code",
   "execution_count": null,
   "id": "89eb9b3b-81ec-4331-8477-41bce7edf795",
   "metadata": {
    "tags": []
   },
   "outputs": [],
   "source": [
    "%%capture\n",
    "%%bash\n",
    "\n",
    "# Install ANNOVAR: We are adding the download link after registration on the annovar website\n",
    "# https://www.openbioinformatics.org/annovar/annovar_download_form.php\n",
    "\n",
    "if test -e ~/tools/annovar ; then\n",
    "    echo \"annovar is already installed in /home/jupyter/workspace/ws_files/fangz_workdir/annovar\"\n",
    "else\n",
    "    echo \"annovar is not installed\"\n",
    "    cd ~/tools\n",
    "\n",
    "    wget http://www.openbioinformatics.org/annovar/download/0wgxR2rIVP/annovar.latest.tar.gz\n",
    "\n",
    "    tar xvfz annovar.latest.tar.gz\n",
    "\n",
    "fi"
   ]
  },
  {
   "cell_type": "code",
   "execution_count": null,
   "id": "fd70f1b4-d4fd-4e82-b62d-71c2d8f1774e",
   "metadata": {
    "tags": []
   },
   "outputs": [],
   "source": [
    "%%capture\n",
    "%%bash\n",
    "\n",
    "# Install ANNOVAR: Download resources for annotation\n",
    "\n",
    "cd ~/tools/annovar\n",
    "perl annotate_variation.pl -buildver hg38 -downdb -webfrom annovar refGene humandb/\n",
    "perl annotate_variation.pl -buildver hg38 -downdb -webfrom annovar clinvar_20240917 humandb/\n",
    "perl annotate_variation.pl -buildver hg38 -downdb -webfrom annovar dbnsfp47a humandb/\n",
    "perl annotate_variation.pl -buildver hg38 -downdb -webfrom annovar gnomad41_genome humandb/\n"
   ]
  },
  {
   "cell_type": "markdown",
   "id": "2555e17a-8526-4a94-a1b3-b78492eb2ace",
   "metadata": {
    "tags": []
   },
   "source": [
    "### 1.4 Create working directory and set paths"
   ]
  },
  {
   "cell_type": "code",
   "execution_count": null,
   "id": "2e0ac9c2-1c03-4190-b0f6-a6ff25b056fb",
   "metadata": {
    "tags": []
   },
   "outputs": [],
   "source": [
    "# Create a folder on your workspace\n",
    "print(\"Making a working directory\")\n",
    "!mkdir -p /home/jupyter/workspace/ws_files/your_directory\n",
    "!mkdir -p /home/jupyter/workspace/ws_files/your_directory/bed_files\n",
    "!mkdir -p /home/jupyter/workspace/ws_files/your_directory/temp_files\n",
    "!mkdir -p /home/jupyter/workspace/ws_files/your_directory/results\n",
    "\n",
    "workdir=\"/home/jupyter/workspace/ws_files/your_directory\""
   ]
  },
  {
   "cell_type": "markdown",
   "id": "527a8da0-7834-494b-8ecf-910b1b36437c",
   "metadata": {},
   "source": [
    "## 2. Create and edit .range file with genes of interest and genomic coordinates"
   ]
  },
  {
   "cell_type": "markdown",
   "id": "fd02656a-8ea9-46cb-8f70-6847fd594f29",
   "metadata": {},
   "source": [
    "#### Create a .txt file with the gene information (include all genes in which you want to extract variant carriers)\n",
    "Use the following format: ```CHR START END GENE```\n",
    "\n",
    "**CHR** refers to the chromosome the gene is located on (e.g., chr1)\n",
    "\n",
    "**START** refers to the chromosomal position at which the gene starts\n",
    "\n",
    "**END** refers to the chromosomal position at which the gene ends\n",
    "\n",
    "**GENE** refers to the gene name (optional)\n",
    "\n",
    "Use the ensembl genome browser to obtain these information (https://useast.ensembl.org/index.html). "
   ]
  },
  {
   "cell_type": "code",
   "execution_count": null,
   "id": "73fadb68-fb76-4947-83a0-5e26f18cf4c4",
   "metadata": {
    "tags": []
   },
   "outputs": [],
   "source": [
    "# Convert the .txt into a .range file\n",
    "input_file = \"/home/jupyter/workspace/ws_files/your_directory/bed_files/chrom_pos.txt\"\n",
    "output_file = \"/home/jupyter/workspace/ws_files/your_directory/bed_files/chrom_pos.range\"\n",
    "\n",
    "with open(input_file, \"r\") as infile, open(output_file, \"w\") as outfile:\n",
    "    for line in infile:\n",
    "        cleaned_line = \"\\t\".join(line.strip().split())  # Replace spaces with actual tabs\n",
    "        outfile.write(cleaned_line + \"\\n\")\n",
    "\n",
    "print(\"Conversion complete! File saved as:\", output_file)"
   ]
  },
  {
   "cell_type": "code",
   "execution_count": null,
   "id": "02298420-2207-4be6-8cec-ee7a987e90f4",
   "metadata": {
    "tags": []
   },
   "outputs": [],
   "source": [
    "# Read in the .range file\n",
    "range = pd.read_csv('/home/jupyter/workspace/ws_files/your_directory/bed_files/chrom_pos.range', sep=\"\\t\", header=None, dtype=str)\n",
    "range"
   ]
  },
  {
   "cell_type": "markdown",
   "id": "60b41fd7-e20c-487a-9630-dea297c4cb02",
   "metadata": {
    "tags": []
   },
   "source": [
    "## 3. Prepare genotyping files"
   ]
  },
  {
   "cell_type": "markdown",
   "id": "540e9a17-f1b8-4df7-a9e4-fc06bf823ede",
   "metadata": {},
   "source": [
    "#### 3.1 Template to get chromosomal positions for NBA marker IDs"
   ]
  },
  {
   "cell_type": "code",
   "execution_count": null,
   "id": "707848b5-b682-4313-98b0-e32fccc23dbb",
   "metadata": {
    "tags": []
   },
   "outputs": [],
   "source": [
    "! wget \"https://hgdownload.soe.ucsc.edu/goldenpath/hg38/bigZips/hg38.fa.gz\" "
   ]
  },
  {
   "cell_type": "code",
   "execution_count": null,
   "id": "fcf56d11-4c39-482a-a810-c4636dc2787f",
   "metadata": {
    "tags": []
   },
   "outputs": [],
   "source": [
    "!mv /home/jupyter/workspace/ws_files/your_directory/hg38.fa.gz /home/jupyter/workspace/ws_files/your_directory/docs/hg38.fa.gz"
   ]
  },
  {
   "cell_type": "markdown",
   "id": "88128754-4790-444c-832f-483680c89230",
   "metadata": {},
   "source": [
    "#### 3.2 Convert NBA marker IDs from genotyping files into chromosomal positions"
   ]
  },
  {
   "cell_type": "code",
   "execution_count": null,
   "id": "41701ace-3524-4cc7-9657-d8a3740ff7e0",
   "metadata": {
    "tags": []
   },
   "outputs": [],
   "source": [
    "! /home/jupyter/tools/plink2 --pfile /home/jupyter/workspace/path/to/release9/raw_genotypes_flipped/EUR/EUR_release9_flipped_vwb \\\n",
    "--fa /home/jupyter/workspace/ws_files/GP2_R9_monogenic/docs/hg38.fa.gz \\\n",
    "--set-all-var-ids \"chr@:#:\\$r:\\$a\" \\\n",
    "--new-id-max-allele-len 999 --sort-vars \\\n",
    "--make-pgen \\\n",
    "--out /home/jupyter/workspace/ws_files/GP2_R9_monogenic/docs/EUR_release9_new"
   ]
  },
  {
   "cell_type": "code",
   "execution_count": null,
   "id": "1b3ee187-9ff3-444e-a47f-a124735413e2",
   "metadata": {
    "tags": []
   },
   "outputs": [],
   "source": [
    "! /home/jupyter/tools/plink2 --pfile /home/jupyter/workspace/path/to/release9/raw_genotypes_flipped/AAC/AAC_release9_flipped_vwb \\\n",
    "--fa /home/jupyter/workspace/ws_files/GP2_R9_monogenic/docs/hg38.fa.gz \\\n",
    "--set-all-var-ids \"chr@:#:\\$r:\\$a\" \\\n",
    "--new-id-max-allele-len 999 --sort-vars \\\n",
    "--make-pgen \\\n",
    "--out /home/jupyter/workspace/ws_files/GP2_R9_monogenic/docs/AAC_release9_new"
   ]
  },
  {
   "cell_type": "code",
   "execution_count": null,
   "id": "e2bfce66-6b0d-486a-933f-4749b48e7d22",
   "metadata": {
    "tags": []
   },
   "outputs": [],
   "source": [
    "! /home/jupyter/tools/plink2 --pfile /home/jupyter/workspace/path/to/release9/raw_genotypes_flipped/AFR/AFR_release9_flipped_vwb \\\n",
    "--fa /home/jupyter/workspace/ws_files/GP2_R9_monogenic/docs/hg38.fa.gz \\\n",
    "--set-all-var-ids \"chr@:#:\\$r:\\$a\" \\\n",
    "--new-id-max-allele-len 999 --sort-vars \\\n",
    "--make-pgen \\\n",
    "--out /home/jupyter/workspace/ws_files/GP2_R9_monogenic/docs/AFR_release9_new"
   ]
  },
  {
   "cell_type": "code",
   "execution_count": null,
   "id": "0a9ef7bc-be84-4b15-8305-10f0a78fad78",
   "metadata": {
    "tags": []
   },
   "outputs": [],
   "source": [
    "! /home/jupyter/tools/plink2 --pfile /home/jupyter/workspace/path/to/release9/raw_genotypes_flipped/AJ/AJ_release9_flipped_vwb \\\n",
    "--fa /home/jupyter/workspace/ws_files/GP2_R9_monogenic/docs/hg38.fa.gz \\\n",
    "--set-all-var-ids \"chr@:#:\\$r:\\$a\" \\\n",
    "--new-id-max-allele-len 999 --sort-vars \\\n",
    "--make-pgen \\\n",
    "--out /home/jupyter/workspace/ws_files/GP2_R9_monogenic/docs/AJ_release9_new"
   ]
  },
  {
   "cell_type": "code",
   "execution_count": null,
   "id": "7b0f0d12-ce07-4fc1-9aab-d4efc002b251",
   "metadata": {
    "tags": []
   },
   "outputs": [],
   "source": [
    "! /home/jupyter/tools/plink2 --pfile /home/jupyter/workspace/path/to/release9/raw_genotypes_flipped/AMR/AMR_release9_flipped_vwb \\\n",
    "--fa /home/jupyter/workspace/ws_files/GP2_R9_monogenic/docs/hg38.fa.gz \\\n",
    "--set-all-var-ids \"chr@:#:\\$r:\\$a\" \\\n",
    "--new-id-max-allele-len 999 --sort-vars \\\n",
    "--make-pgen \\\n",
    "--out /home/jupyter/workspace/ws_files/GP2_R9_monogenic/docs/AMR_release9_new"
   ]
  },
  {
   "cell_type": "code",
   "execution_count": null,
   "id": "3adaf413-31c2-4929-8c24-eedd80b13fa6",
   "metadata": {
    "tags": []
   },
   "outputs": [],
   "source": [
    "! /home/jupyter/tools/plink2 --pfile /home/jupyter/workspace/path/to/release9/raw_genotypes_flipped/CAH/CAH_release9_flipped_vwb \\\n",
    "--set-all-var-ids \"chr@:#:\\$r:\\$a\" \\\n",
    "--new-id-max-allele-len 999 --sort-vars \\\n",
    "--make-pgen \\\n",
    "--out /home/jupyter/workspace/ws_files/GP2_R9_monogenic/docs/CAH_release9_new"
   ]
  },
  {
   "cell_type": "code",
   "execution_count": null,
   "id": "acd2dad4-b6cd-49be-b01a-0f044471524a",
   "metadata": {
    "tags": []
   },
   "outputs": [],
   "source": [
    "! /home/jupyter/tools/plink2 --pfile /home/jupyter/workspace/path/to/release9/raw_genotypes_flipped/CAS/CAS_release9_flipped_vwb \\\n",
    "--fa /home/jupyter/workspace/ws_files/GP2_R9_monogenic/docs/hg38.fa.gz \\\n",
    "--set-all-var-ids \"chr@:#:\\$r:\\$a\" \\\n",
    "--new-id-max-allele-len 999 --sort-vars \\\n",
    "--make-pgen \\\n",
    "--out /home/jupyter/workspace/ws_files/GP2_R9_monogenic/docs/CAS_release9_new"
   ]
  },
  {
   "cell_type": "code",
   "execution_count": null,
   "id": "c33ca5ac-c510-4b64-a260-e52c1e2a341c",
   "metadata": {
    "tags": []
   },
   "outputs": [],
   "source": [
    "! /home/jupyter/tools/plink2 --pfile /home/jupyter/workspace/path/to/release9/raw_genotypes_flipped/EAS/EAS_release9_flipped_vwb \\\n",
    "--fa /home/jupyter/workspace/ws_files/GP2_R9_monogenic/docs/hg38.fa.gz \\\n",
    "--set-all-var-ids \"chr@:#:\\$r:\\$a\" \\\n",
    "--new-id-max-allele-len 999 --sort-vars \\\n",
    "--make-pgen \\\n",
    "--out /home/jupyter/workspace/ws_files/GP2_R9_monogenic/docs/EAS_release9_new"
   ]
  },
  {
   "cell_type": "code",
   "execution_count": null,
   "id": "085fb51a-1247-4f30-bc58-029cd22adfc4",
   "metadata": {
    "tags": []
   },
   "outputs": [],
   "source": [
    "! /home/jupyter/tools/plink2 --pfile /home/jupyter/workspace/path/to/release9/raw_genotypes_flipped/FIN/FIN_release9_flipped_vwb \\\n",
    "--fa /home/jupyter/workspace/ws_files/GP2_R9_monogenic/docs/hg38.fa.gz \\\n",
    "--set-all-var-ids \"chr@:#:\\$r:\\$a\" \\\n",
    "--new-id-max-allele-len 999 --sort-vars \\\n",
    "--make-pgen \\\n",
    "--out /home/jupyter/workspace/ws_files/GP2_R9_monogenic/docs/FIN_release9_new"
   ]
  },
  {
   "cell_type": "code",
   "execution_count": null,
   "id": "2f769dcc-1051-47f2-9e9b-347577438599",
   "metadata": {
    "tags": []
   },
   "outputs": [],
   "source": [
    "! /home/jupyter/tools/plink2 --pfile /home/jupyter/workspace/path/to/release9/raw_genotypes_flipped/MDE/MDE_release9_flipped_vwb \\\n",
    "--fa /home/jupyter/workspace/ws_files/GP2_R9_monogenic/docs/hg38.fa.gz \\\n",
    "--set-all-var-ids \"chr@:#:\\$r:\\$a\" \\\n",
    "--new-id-max-allele-len 999 --sort-vars \\\n",
    "--make-pgen \\\n",
    "--out /home/jupyter/workspace/ws_files/GP2_R9_monogenic/docs/MDE_release9_new"
   ]
  },
  {
   "cell_type": "code",
   "execution_count": null,
   "id": "f37320d0-6e76-4aeb-ac9c-6ac2f178143c",
   "metadata": {
    "tags": []
   },
   "outputs": [],
   "source": [
    "! /home/jupyter/tools/plink2 --pfile /home/jupyter/workspace/path/to/release9/raw_genotypes_flipped/SAS/SAS_release9_flipped_vwb \\\n",
    "--fa /home/jupyter/workspace/ws_files/GP2_R9_monogenic/docs/hg38.fa.gz \\\n",
    "--set-all-var-ids \"chr@:#:\\$r:\\$a\" \\\n",
    "--new-id-max-allele-len 999 --sort-vars \\\n",
    "--make-pgen \\\n",
    "--out /home/jupyter/workspace/ws_files/GP2_R9_monogenic/docs/SAS_release9_new"
   ]
  },
  {
   "cell_type": "markdown",
   "id": "d164f0b3-41db-4364-8f9f-a0a05146ae5d",
   "metadata": {},
   "source": [
    "## 4. Extract variants in genes of interest and annotation"
   ]
  },
  {
   "cell_type": "markdown",
   "id": "80c08964-8046-4d5d-acd8-b87576b67509",
   "metadata": {
    "tags": []
   },
   "source": [
    "### AAC (as an example)"
   ]
  },
  {
   "cell_type": "code",
   "execution_count": null,
   "id": "d0c8509c-e037-4130-80ca-f6fae94b7791",
   "metadata": {
    "scrolled": true,
    "tags": []
   },
   "outputs": [],
   "source": [
    "%%bash\n",
    "\n",
    "# Define all the variables\n",
    "INPUT_PLINK_DIR=\"/home/jupyter/workspace/ws_files/your_directory/docs\"\n",
    "PLINK2_PATH=\"/home/jupyter/tools/plink2\"\n",
    "TEMP_DIR=\"/home/jupyter/workspace/ws_files/your_directory/temp_files\"\n",
    "ANCESTRY=\"AAC\"\n",
    "\n",
    "# Run PLINK2\n",
    "$PLINK2_PATH --pfile \"${INPUT_PLINK_DIR}/${ANCESTRY}_release9_new\" \\\n",
    "    --mac 1 \\\n",
    "    --extract range /home/jupyter/workspace/ws_files/your_directory/bed_files/chrom_pos.range \\\n",
    "    --make-pgen \\\n",
    "    --out \"${TEMP_DIR}/${ANCESTRY}/${ANCESTRY}_filtered\"\n"
   ]
  },
  {
   "cell_type": "code",
   "execution_count": null,
   "id": "bf9da0b4-df37-4bce-a655-a33cb67de43e",
   "metadata": {
    "tags": []
   },
   "outputs": [],
   "source": [
    "%%bash\n",
    "\n",
    "PLINK2_PATH=\"/home/jupyter/tools/plink2\"\n",
    "TEMP_DIR=\"/home/jupyter/workspace/ws_files/your_directory/temp_files\"\n",
    "ANCESTRY=\"AAC\"\n",
    "\n",
    "\n",
    "$PLINK2_PATH --pfile \"/home/jupyter/workspace/ws_files/your_directory/temp_files/AAC/AAC_filtered\" \\\n",
    "       --recode vcf \\\n",
    "       --out \"${TEMP_DIR}/${ANCESTRY}/${ANCESTRY}\""
   ]
  },
  {
   "cell_type": "code",
   "execution_count": null,
   "id": "89effcee-f923-4586-9df7-912fe9c39138",
   "metadata": {
    "tags": []
   },
   "outputs": [],
   "source": [
    "%%bash\n",
    "# bgzip the vcf\n",
    "TEMP_DIR=\"/home/jupyter/workspace/ws_files/your_directory/temp_files\"\n",
    "ANCESTRY=\"AAC\"\n",
    "\n",
    "bgzip -c ${TEMP_DIR}/${ANCESTRY}/${ANCESTRY}.vcf > ${TEMP_DIR}/${ANCESTRY}/annovar_input_${ANCESTRY}.vcf.gz\n",
    "tabix -p vcf ${TEMP_DIR}/${ANCESTRY}/annovar_input_${ANCESTRY}.vcf.gz"
   ]
  },
  {
   "cell_type": "code",
   "execution_count": null,
   "id": "610546d4-b041-4cf8-8ee3-73f230aee042",
   "metadata": {
    "tags": []
   },
   "outputs": [],
   "source": [
    "%%bash\n",
    "\n",
    "workdir=\"/home/jupyter/workspace/ws_files/your_directory\"\n",
    "mkdir -p ${workdir}/results\n",
    "\n",
    "# Run ANNOVAR annotation\n",
    "perl ~/tools/annovar/table_annovar.pl \\\n",
    "     ${workdir}/temp_files/AAC/annovar_input_AAC.vcf.gz \\\n",
    "    /home/jupyter/tools/annovar/humandb/ \\\n",
    "    -buildver hg38 \\\n",
    "    -out ${workdir}/results/nba_final_AAC.annovar \\\n",
    "    -remove \\\n",
    "    -protocol refGene,gnomad41_genome,clinvar_20240917,dbnsfp47a \\\n",
    "    -operation g,f,f,f \\\n",
    "    -nastring . \\\n",
    "    -polish \\\n",
    "    -vcfinput"
   ]
  },
  {
   "cell_type": "code",
   "execution_count": null,
   "id": "bf2ae3db-8f20-4028-9309-a7e719784f21",
   "metadata": {
    "tags": []
   },
   "outputs": [],
   "source": [
    "%%bash \n",
    "workdir=\"/home/jupyter/workspace/ws_files/your_directory\"\n",
    "\n",
    "head ${workdir}/results/nba_final_AAC.annovar.hg38_multianno.txt"
   ]
  },
  {
   "cell_type": "code",
   "execution_count": null,
   "id": "dad33ebf-2211-4144-9751-0bbb8e4bf44a",
   "metadata": {
    "tags": []
   },
   "outputs": [],
   "source": [
    "workdir=\"/home/jupyter/workspace/ws_files/your_directory\"\n",
    "# Show columns of multianno.txt output file\n",
    "anno=pd.read_csv(f'{workdir}/results/nba_final_AAC.annovar.hg38_multianno.txt',sep='\\t',dtype=str)\n",
    "\n",
    "# Find variant ID column\n",
    "anno['Otherinfo6']"
   ]
  },
  {
   "cell_type": "code",
   "execution_count": null,
   "id": "7ec66b3c-6f38-414a-ba40-d71c24342e97",
   "metadata": {
    "scrolled": true,
    "tags": []
   },
   "outputs": [],
   "source": [
    "anno.columns.tolist()"
   ]
  },
  {
   "cell_type": "code",
   "execution_count": null,
   "id": "87c1ec3b-bc51-4721-a8b3-1a972cdfad52",
   "metadata": {
    "scrolled": true,
    "tags": []
   },
   "outputs": [],
   "source": [
    "# Select the columns to keep\n",
    "basic_cols= anno.columns.tolist()[0:10]\n",
    "additional_cols_to_keep=['Otherinfo6',\n",
    "                         'gnomad41_genome_fafmax_faf95_max',\n",
    "                         'CLNDN',\n",
    "                         'CLNSIG',\n",
    "                         'CADD_phred']\n",
    "            \n",
    "all_cols_to_keep= basic_cols+ additional_cols_to_keep\n",
    "all_cols_to_keep"
   ]
  },
  {
   "cell_type": "code",
   "execution_count": null,
   "id": "0f0d7cd5-cfb5-4b62-a23d-9a0685b86d8b",
   "metadata": {
    "tags": []
   },
   "outputs": [],
   "source": [
    "# Subset the columns\n",
    "AAC_df=anno[all_cols_to_keep]\n",
    "\n",
    "# Rename column\n",
    "AAC_df.rename({'Otherinfo6':'var_id'},axis=1,inplace=True)\n",
    "\n",
    "AAC_df"
   ]
  },
  {
   "cell_type": "code",
   "execution_count": null,
   "id": "474403f6-2317-40d3-8e49-feb1174e2068",
   "metadata": {
    "tags": []
   },
   "outputs": [],
   "source": [
    "# Count occurrences of each value\n",
    "value_counts = AAC_df[\"ExonicFunc.refGene\"].value_counts()\n",
    "\n",
    "# Display counts\n",
    "print(value_counts)"
   ]
  },
  {
   "cell_type": "markdown",
   "id": "b74e001f-52f9-4c59-a0a2-d17903209a9a",
   "metadata": {},
   "source": [
    "#### 4.1 Filter variants"
   ]
  },
  {
   "cell_type": "code",
   "execution_count": null,
   "id": "8c4f9ee0-c4be-4dcb-b297-626ba91f5850",
   "metadata": {
    "tags": []
   },
   "outputs": [],
   "source": [
    "# Define the values you want to keep\n",
    "keep_values = [\"exonic\", \"splicing\", \"exonic;splicing\"]  # Add more if needed\n",
    "\n",
    "# Subset the dataframe\n",
    "filtered_AAC_df = AAC_df[AAC_df[\"Func.refGene\"].isin(keep_values)]\n",
    "\n",
    "# Display the filtered dataframe\n",
    "print (filtered_AAC_df.head())\n"
   ]
  },
  {
   "cell_type": "code",
   "execution_count": null,
   "id": "79679d9d-43e1-4566-824a-c3b1363f3d80",
   "metadata": {
    "tags": []
   },
   "outputs": [],
   "source": [
    "# Filter out synonymous SNVs\n",
    "filtered_AAC_df = filtered_AAC_df[filtered_AAC_df[\"ExonicFunc.refGene\"] != \"synonymous SNV\"]\n",
    "\n",
    "# Display the filtered dataframe\n",
    "print (filtered_AAC_df.head())"
   ]
  },
  {
   "cell_type": "code",
   "execution_count": null,
   "id": "c7097d22-b552-4a49-a0e5-3632cddda4be",
   "metadata": {
    "tags": []
   },
   "outputs": [],
   "source": [
    "# Save the filtered output\n",
    "filtered_AAC_df.to_csv(f\"{workdir}/results/filtered_multianno_AAC.tsv\", sep=\"\\t\", index=False)\n",
    "\n",
    "# Write out 'var_id' to extract from plink files\n",
    "filtered_AAC_df['var_id'].to_csv(f\"{workdir}/results/AAC_var_to_extract.txt\",index=False,header=False)\n"
   ]
  },
  {
   "cell_type": "markdown",
   "id": "c2bcf8d3-1f4f-468b-ae43-b3cca577b01c",
   "metadata": {
    "tags": []
   },
   "source": [
    "#### 4.2 Extract carrier IDs and genotypes"
   ]
  },
  {
   "cell_type": "code",
   "execution_count": null,
   "id": "b241b2b7-c88a-4c18-aba3-567710e3b113",
   "metadata": {
    "tags": []
   },
   "outputs": [],
   "source": [
    "%%bash\n",
    "workdir=\"/home/jupyter/workspace/ws_files/your_directory\"\n",
    "TEMP_DIR=\"/home/jupyter/workspace/ws_files/your_directory/temp_files\"\n",
    "ANCESTRY=\"AAC\"\n",
    "\n",
    "~/tools/plink2 --pfile ${TEMP_DIR}/${ANCESTRY}/${ANCESTRY}_filtered \\\n",
    "               --extract ${workdir}/results/${ANCESTRY}_var_to_extract.txt \\\n",
    "               --recode A \\\n",
    "               --out ${TEMP_DIR}/${ANCESTRY}/${ANCESTRY}_geno\n",
    "               "
   ]
  },
  {
   "cell_type": "code",
   "execution_count": null,
   "id": "ffe72f79-637c-486c-9104-ae2bf5339c9f",
   "metadata": {
    "tags": []
   },
   "outputs": [],
   "source": [
    "TEMP_DIR=\"/home/jupyter/workspace/ws_files/your_directory/temp_files\"\n",
    "ANCESTRY=\"AAC\"\n",
    "\n",
    "aac_var = pd.read_csv(f'{TEMP_DIR}/{ANCESTRY}/{ANCESTRY}_geno.raw', sep='\\s+')\n",
    "aac_var"
   ]
  },
  {
   "cell_type": "code",
   "execution_count": null,
   "id": "bca983ed-8d4b-497b-aa9a-664562c29142",
   "metadata": {
    "tags": []
   },
   "outputs": [],
   "source": [
    "# Transpose the dataframe to be row as variants and columns as samples\n",
    "var_col=aac_var.columns[6:len(aac_var)]\n",
    "d = aac_var.drop(columns=['FID','PAT','MAT','SEX','PHENOTYPE'])\n",
    "sample=aac_var[['IID','PHENOTYPE']]\n",
    "\n",
    "# Filtering rows where any value in 'var_col' is ≤1 (either het or hom)\n",
    "t=d[(d[var_col]<=1).any(axis=1)].T\n",
    "t.columns = t.iloc[0]\n",
    "t=t.iloc[1:]\n",
    "t.reset_index(inplace=True)\n",
    "\n",
    "t"
   ]
  },
  {
   "cell_type": "code",
   "execution_count": null,
   "id": "f2607042-fa72-4883-877c-b04373acd955",
   "metadata": {
    "tags": []
   },
   "outputs": [],
   "source": [
    "# Strip the last '_${ref_allele}', so we can keep the same variant ID as in annotation \n",
    "t['index'] = t['index'].str.rsplit('_', n=1).str[0]\n",
    "t.rename({'index':'var_id'},axis=1,inplace=True)\n",
    "t"
   ]
  },
  {
   "cell_type": "code",
   "execution_count": null,
   "id": "54d9a220-8fd2-4039-9cae-8f0a9f8ec6bc",
   "metadata": {
    "tags": []
   },
   "outputs": [],
   "source": [
    "t['hom_carrier'] = t.apply(lambda row: row[row == 0].index.tolist() , axis=1)\n",
    "t['het_carrier'] = t.apply(lambda row: row[row == 1].index.tolist() , axis=1)  \n",
    "\n",
    "# Store hom and het seperately to later explode the dataframe correctly\n",
    "hom = t[['var_id','hom_carrier']]\n",
    "het = t[['var_id','het_carrier']]\n",
    "\n"
   ]
  },
  {
   "cell_type": "code",
   "execution_count": null,
   "id": "a93bbdc6-61f4-4a65-9c4a-64fea4e5a715",
   "metadata": {
    "tags": []
   },
   "outputs": [],
   "source": [
    "# Check hom as example what to expect\n",
    "hom"
   ]
  },
  {
   "cell_type": "code",
   "execution_count": null,
   "id": "ba0cdcbf-8fd2-453b-ac36-555527dbbfff",
   "metadata": {
    "tags": []
   },
   "outputs": [],
   "source": [
    "# Split the carrier ID from the list and each to a row\n",
    "hom = hom.explode('hom_carrier', ignore_index=True)\n",
    "\n",
    "hom"
   ]
  },
  {
   "cell_type": "code",
   "execution_count": null,
   "id": "4d16bdcc-d385-4596-9b19-974c5d80175f",
   "metadata": {
    "tags": []
   },
   "outputs": [],
   "source": [
    "# Keep just the variants with carriers\n",
    "hom= hom.loc[~hom['hom_carrier'].isnull()]\n",
    "\n",
    "hom"
   ]
  },
  {
   "cell_type": "code",
   "execution_count": null,
   "id": "3ed57547-5c0b-4201-bd02-6467ef92a782",
   "metadata": {
    "tags": []
   },
   "outputs": [],
   "source": [
    "# Merge with annotation\n",
    "out_hom = pd.merge(hom,filtered_AAC_df, on='var_id',how='left')\n",
    "out_hom['zygosity'] = 'hom'\n",
    "\n",
    "# Rename column\n",
    "out_hom.rename({'hom_carrier':'carrier_id'},axis=1,inplace=True)\n",
    "\n",
    "out_hom"
   ]
  },
  {
   "cell_type": "code",
   "execution_count": null,
   "id": "d469f9e2-7b4d-49b4-8109-010605f9f224",
   "metadata": {
    "tags": []
   },
   "outputs": [],
   "source": [
    "# Repeat the same for het\n",
    "het = het.explode('het_carrier', ignore_index=True)\n",
    "het= het.loc[~het['het_carrier'].isnull()]\n",
    "\n",
    "het"
   ]
  },
  {
   "cell_type": "code",
   "execution_count": null,
   "id": "09c7a26e-a472-48b9-a501-974cd1cdac76",
   "metadata": {
    "tags": []
   },
   "outputs": [],
   "source": [
    "# Merge with annotation\n",
    "out_het = pd.merge(het,filtered_AAC_df, on='var_id',how='left')\n",
    "out_het['zygosity'] = 'het'\n",
    "\n",
    "# Rename column\n",
    "out_het.rename({'het_carrier':'carrier_id'},axis=1,inplace=True)\n",
    "\n",
    "out_het\n"
   ]
  },
  {
   "cell_type": "code",
   "execution_count": null,
   "id": "2807ee22-0fe5-47be-9a1a-06e6585b8fb8",
   "metadata": {
    "tags": []
   },
   "outputs": [],
   "source": [
    "# Check if there's any comphet by grouping gene and sample ID\n",
    "pd.concat(g for _, g in out_het.groupby([\"Gene.refGene\",\"carrier_id\"]) if len(g) > 1)\n"
   ]
  },
  {
   "cell_type": "code",
   "execution_count": null,
   "id": "f9f78a4a-9fd7-4279-81b8-c72ab4bc10ba",
   "metadata": {
    "tags": []
   },
   "outputs": [],
   "source": [
    "# Write out comphet\n",
    "comphet = pd.concat(g for _, g in out_het.groupby([\"Gene.refGene\",\"carrier_id\"]) if len(g) > 1)\n",
    "comphet['zygosity'] = 'comphet'\n"
   ]
  },
  {
   "cell_type": "code",
   "execution_count": null,
   "id": "a3e41a52-7157-4486-9e01-14aa10c98842",
   "metadata": {
    "tags": []
   },
   "outputs": [],
   "source": [
    "# Get everything and write out\n",
    "merged_df_AAC = pd.concat([out_het,out_hom,comphet],axis=0)\n",
    "\n",
    "# Save the dataset\n",
    "merged_df_AAC.to_csv(f\"{workdir}/results/results_AAC.tsv\",sep='\\t',index=False)"
   ]
  },
  {
   "cell_type": "markdown",
   "id": "78ad6366-a314-4468-bd7e-bad5608d57b8",
   "metadata": {
    "tags": []
   },
   "source": [
    "### Now repeat the same steps for all other ancestries (AFR, AJ, AMR, CAH, CAS, EAS, EUR, FIN, MDE, SAS)!"
   ]
  }
 ],
 "metadata": {
  "environment": {
   "kernel": "python3",
   "name": "r-cpu.m127",
   "type": "gcloud",
   "uri": "us-docker.pkg.dev/deeplearning-platform-release/gcr.io/r-cpu:m127"
  },
  "kernelspec": {
   "display_name": "Python 3 (Local)",
   "language": "python",
   "name": "python3"
  },
  "language_info": {
   "codemirror_mode": {
    "name": "ipython",
    "version": 3
   },
   "file_extension": ".py",
   "mimetype": "text/x-python",
   "name": "python",
   "nbconvert_exporter": "python",
   "pygments_lexer": "ipython3",
   "version": "3.10.16"
  }
 },
 "nbformat": 4,
 "nbformat_minor": 5
}
