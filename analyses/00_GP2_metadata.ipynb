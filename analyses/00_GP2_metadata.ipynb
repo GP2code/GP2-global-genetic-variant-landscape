{
 "cells": [
  {
   "cell_type": "markdown",
   "id": "3fd856be-a87e-464e-8a8a-96d537fd122a",
   "metadata": {},
   "source": [
    "# Extracting metadata for identified carriers (from GP2 NBA, CES and WGS)"
   ]
  },
  {
   "cell_type": "markdown",
   "id": "0e05490f",
   "metadata": {},
   "source": [
    "## Exploring the Global Landscape of Rare Causal and Common High-Risk Variants in Parkinson’s Disease"
   ]
  },
  {
   "cell_type": "markdown",
   "id": "56207454",
   "metadata": {},
   "source": [
    "`GP2 ❤️ Open Science 😍`\n",
    "\n",
    "## Description:\n",
    "\n",
    "This notebook contains the code and workflow used in the study: **“Exploring the Global Landscape of Rare Causal and Common High-Risk Variants in Parkinson’s Disease”**.\n",
    "\n",
    "In this notebook we extract metadata for identified carriers (from GP2 NBA, CES and WGS)."
   ]
  },
  {
   "cell_type": "markdown",
   "id": "ac640ecf",
   "metadata": {},
   "source": [
    "### Outline:\n",
    "\n",
    "* **0. Set Up**\n",
    "\n",
    "* **1. Read in and prepare clinical data**\n",
    "\n",
    "* **2. Read in file with your carrier/individual IDs and merge with clinical data**"
   ]
  },
  {
   "cell_type": "markdown",
   "id": "fa5414d6-cddc-41b8-ad6b-73916f178dc3",
   "metadata": {},
   "source": [
    "## 0. Set Up"
   ]
  },
  {
   "cell_type": "code",
   "execution_count": null,
   "id": "55f04154-246a-4c9a-9abf-ef403e2e14b8",
   "metadata": {
    "tags": []
   },
   "outputs": [],
   "source": [
    "# Use the os package to interact with the environment\n",
    "import os\n",
    "\n",
    "# Bring in Pandas for Dataframe functionality\n",
    "import pandas as pd\n",
    "\n",
    "# Numpy for basics\n",
    "import numpy as np\n",
    "\n",
    "# Use StringIO for working with file contents\n",
    "from io import StringIO\n",
    "\n",
    "# Enable IPython to display matplotlib graphs\n",
    "import matplotlib.pyplot as plt\n",
    "%matplotlib inline\n",
    "\n",
    "# Enable interaction with the FireCloud API\n",
    "#from firecloud import api as fapi\n",
    "\n",
    "# Import the iPython HTML rendering for displaying links to Google Cloud Console\n",
    "from IPython.core.display import display, HTML\n",
    "\n",
    "# Import urllib modules for building URLs to Google Cloud Console\n",
    "import urllib.parse\n",
    "\n",
    "# BigQuery for querying data\n",
    "from google.cloud import bigquery\n",
    "\n",
    "#Import Sys\n",
    "import sys as sys\n",
    "\n",
    "import openpyxl\n",
    "import glob"
   ]
  },
  {
   "cell_type": "code",
   "execution_count": null,
   "id": "d1d58e98-45e7-4194-b9f0-c59d3198eef6",
   "metadata": {},
   "outputs": [],
   "source": [
    "# Utility routine for printing a shell command before executing it\n",
    "def shell_do(command):\n",
    "    print(f'Executing: {command}', file=sys.stderr)\n",
    "    !$command\n",
    "    \n",
    "def shell_return(command):\n",
    "    print(f'Executing: {command}', file=sys.stderr)\n",
    "    output = !$command\n",
    "    return '\\n'.join(output)\n",
    "\n",
    "# Utility routine for printing a query before executing it\n",
    "def bq_query(query):\n",
    "    print(f'Executing: {query}', file=sys.stderr)\n",
    "    return pd.read_gbq(query, project_id=BILLING_PROJECT_ID, dialect='standard')\n",
    "\n",
    "# Utility routine for display a message and a link\n",
    "def display_html_link(description, link_text, url):\n",
    "    html = f'''\n",
    "    <p>\n",
    "    </p>\n",
    "    <p>\n",
    "    {description}\n",
    "    <a target=_blank href=\"{url}\">{link_text}</a>.\n",
    "    </p>\n",
    "    '''\n",
    "\n",
    "    display(HTML(html))\n",
    "\n",
    "# Utility routines for reading files from Google Cloud Storage\n",
    "def gcs_read_file(path):\n",
    "    \"\"\"Return the contents of a file in GCS\"\"\"\n",
    "    contents = !gsutil -u {BILLING_PROJECT_ID} cat {path}\n",
    "    return '\\n'.join(contents)\n",
    "    \n",
    "def gcs_read_csv(path, sep=None):\n",
    "    \"\"\"Return a DataFrame from the contents of a delimited file in GCS\"\"\"\n",
    "    return pd.read_csv(StringIO(gcs_read_file(path)), sep=sep, engine='python')\n",
    "\n",
    "# Utility routine for displaying a message and link to Cloud Console\n",
    "def link_to_cloud_console_gcs(description, link_text, gcs_path):\n",
    "    url = '{}?{}'.format(\n",
    "        os.path.join('https://console.cloud.google.com/storage/browser',\n",
    "                     gcs_path.replace(\"gs://\",\"\")),\n",
    "        urllib.parse.urlencode({'userProject': BILLING_PROJECT_ID}))\n",
    "\n",
    "    display_html_link(description, link_text, url)"
   ]
  },
  {
   "cell_type": "markdown",
   "id": "ad810242-7ae6-4946-80c7-1e495f4c1619",
   "metadata": {},
   "source": [
    "## 1. Read in and prepare clinical data"
   ]
  },
  {
   "cell_type": "code",
   "execution_count": null,
   "id": "601c7aad-81c0-4704-8476-85f364b44b1c",
   "metadata": {},
   "outputs": [],
   "source": [
    "# Load the master key\n",
    "master_key_df = pd.read_csv('/home/jupyter/workspace/path/to/release9/clinical_data/master_key_release9_final_vwb.csv') #Edit this path if you want to look into data from previous releases\n",
    "print(master_key_df.shape)"
   ]
  },
  {
   "cell_type": "code",
   "execution_count": null,
   "id": "09cd4293-2e0c-462b-9b60-3a0a27814bc3",
   "metadata": {},
   "outputs": [],
   "source": [
    "#Print available data variables\n",
    "print('Basic information:')\n",
    "print()\n",
    "master_key_df.info()"
   ]
  },
  {
   "cell_type": "code",
   "execution_count": null,
   "id": "82a64b1a-4c9e-4c2b-8ac4-06b9303cba2f",
   "metadata": {},
   "outputs": [],
   "source": [
    "# Rename some variables (Optional!)\n",
    "master_key_df.rename(columns = {'GP2ID': 'IID', \n",
    "                                'family_history_for_qc': 'FH', \n",
    "                                'biological_sex_for_qc':'gender', \n",
    "                                'age_at_sample_collection': 'age',\n",
    "                                'age_of_onset':'AAO', \n",
    "                                'age_at_diagnosis':'AAD', \n",
    "                                'biological_sex_for_qc':'gender', \n",
    "                                'baseline_GP2_phenotype_for_qc': 'phenotype', \n",
    "                                'nba_prune_reason':'nba_prune', \n",
    "                                'wgs_prune_reason':'wgs_prune', \n",
    "                                'race_for_qc':'race'}, \n",
    "                                inplace = True)"
   ]
  },
  {
   "cell_type": "code",
   "execution_count": null,
   "id": "142934f4-fc87-4dd4-a301-f50220ca6480",
   "metadata": {},
   "outputs": [],
   "source": [
    "# Extract only the necessary columns from the 'master_key_df'\n",
    "columns_to_extract = ['IID', 'wgs_GP2ID_r8', 'nba', 'wgs', 'clinical_exome', \n",
    "                      'nba_label', 'wgs_label', 'study_type', 'gender', \n",
    "                      'age', 'AAO', 'AAD', 'FH', 'diagnosis', 'phenotype'] #Adjust according to the data you're interested in  \n",
    "\n",
    "master_key_subset = master_key_df[columns_to_extract]\n",
    "\n",
    "print(master_key_subset)"
   ]
  },
  {
   "cell_type": "markdown",
   "id": "3938ed71-0641-4a1b-97de-2dadc6be6945",
   "metadata": {},
   "source": [
    "## 2. Read in file with your carrier/individual IDs and merge with clinical data"
   ]
  },
  {
   "cell_type": "code",
   "execution_count": null,
   "id": "0d32e688-d1e3-4595-91d7-436e01abfc2a",
   "metadata": {},
   "outputs": [],
   "source": [
    "# Create a folder on your workspace\n",
    "print(\"Making a working directory\")\n",
    "\n",
    "!mkdir -p /home/jupyter/workspace/ws_files/meta\n",
    "\n",
    "workdir=\"/home/jupyter/workspace/ws_files/meta\""
   ]
  },
  {
   "cell_type": "code",
   "execution_count": null,
   "id": "41782766-bccb-4c22-9c7b-a50e8fa95852",
   "metadata": {},
   "outputs": [],
   "source": [
    "# Read in file with variant carriers\n",
    "# Make sure your sample ID 'IID' column has the same header you chose for the master key subset \n",
    "carrier = pd.read_csv('/home/jupyter/workspace/ws_files/meta/carrier_ID_input_file.csv')\n",
    "print(carrier)"
   ]
  },
  {
   "cell_type": "code",
   "execution_count": null,
   "id": "9f20a529-3454-4e24-930b-79ceda146de7",
   "metadata": {},
   "outputs": [],
   "source": [
    "# Merge the dataframes on sample IDs using 'IID' column\n",
    "carrier_meta = pd.merge(carrier, master_key_subset, on='IID', how='left')\n",
    "\n",
    "print(carrier_meta)"
   ]
  }
 ],
 "metadata": {
  "environment": {
   "kernel": "python3",
   "name": "r-cpu.m127",
   "type": "gcloud",
   "uri": "us-docker.pkg.dev/deeplearning-platform-release/gcr.io/r-cpu:m127"
  },
  "kernelspec": {
   "display_name": "Python 3 (Local)",
   "language": "python",
   "name": "python3"
  },
  "language_info": {
   "codemirror_mode": {
    "name": "ipython",
    "version": 3
   },
   "file_extension": ".py",
   "mimetype": "text/x-python",
   "name": "python",
   "nbconvert_exporter": "python",
   "pygments_lexer": "ipython3",
   "version": "3.10.16"
  }
 },
 "nbformat": 4,
 "nbformat_minor": 5
}
