{
 "cells": [
  {
   "cell_type": "markdown",
   "id": "c8d6fe81-99cd-4faa-abdb-3832390ae987",
   "metadata": {},
   "source": [
    "# Extract variant carriers and perform annotation using GP2 WGS and CES data (PLINK files from Release 8)"
   ]
  },
  {
   "cell_type": "markdown",
   "id": "729fe2e0",
   "metadata": {},
   "source": [
    "## Exploring the Global Landscape of Rare Causal and Common High-Risk Variants in Parkinson’s Disease"
   ]
  },
  {
   "cell_type": "markdown",
   "id": "94959500",
   "metadata": {},
   "source": [
    "`GP2 ❤️ Open Science 😍`\n",
    "\n",
    "## Description:\n",
    "\n",
    "This notebook contains the code and workflow used in the study: **“Exploring the Global Landscape of Rare Causal and Common High-Risk Variants in Parkinson’s Disease”**.\n",
    "\n",
    "In this notebook we extract variant carriers and perform annotation using GP2 WGS and CES data (PLINK files from Release 8)."
   ]
  },
  {
   "cell_type": "markdown",
   "id": "66d0ac74",
   "metadata": {},
   "source": [
    "### Outline:\n",
    "\n",
    "* **0. Set Up**\n",
    "\n",
    "* **1. Install software and define paths**\n",
    "    * 1.1. Install plink\n",
    "    * 1.2. Install bcftools\n",
    "    * 1.3. Install ANNOVAR\n",
    "    * 1.4 Create working directory and set paths\n",
    "\n",
    "* **2. Create and edit .bed file with genes of interest and genomic coordinates**\n",
    "\n",
    "* **3. Extract variant carriers from WGS data**\n",
    "    * AAC (as an example)\n",
    "\n",
    " * **4. CES variant extraction** \n",
    "    * AAC (as an example)"
   ]
  },
  {
   "cell_type": "markdown",
   "id": "fd91f6ec-f5c4-4797-83df-be38a595b79d",
   "metadata": {},
   "source": [
    "## 0. Set Up"
   ]
  },
  {
   "cell_type": "code",
   "execution_count": null,
   "id": "4aa1e5fa-16eb-4cc7-954b-e4bcac7cddf0",
   "metadata": {
    "tags": []
   },
   "outputs": [],
   "source": [
    "## Use the os package to interact with the environment\n",
    "import os\n",
    "\n",
    "## Bring in Pandas for Dataframe functionality\n",
    "import pandas as pd\n",
    "\n",
    "import subprocess\n",
    "\n",
    "## Numpy for basics\n",
    "import numpy as np\n",
    "\n",
    "## Use pathlib for file path manipulation\n",
    "import pathlib\n",
    "\n",
    "## Use StringIO for working with file contents\n",
    "from io import StringIO\n",
    "\n",
    "## Enable IPython to display matplotlib graphs\n",
    "import matplotlib.pyplot as plt\n",
    "%matplotlib inline\n",
    "\n",
    "## Import the iPython HTML rendering for displaying links to Google Cloud Console\n",
    "from IPython.core.display import display, HTML\n",
    "\n",
    "## Import urllib modules for building URLs to Google Cloud Console\n",
    "import urllib.parse\n",
    "\n",
    "## BigQuery for querying data\n",
    "from google.cloud import bigquery\n",
    "\n",
    "## Import Sys\n",
    "import sys as sys"
   ]
  },
  {
   "cell_type": "markdown",
   "id": "101cc5ae",
   "metadata": {},
   "source": [
    "## 1. Install software and define paths"
   ]
  },
  {
   "cell_type": "markdown",
   "id": "f8b19d87-0dbb-4439-a549-66dbfd9aae4a",
   "metadata": {},
   "source": [
    "### 1.1. Install plink"
   ]
  },
  {
   "cell_type": "code",
   "execution_count": null,
   "id": "7c4f1b45-e056-4e24-b5ea-358811f19334",
   "metadata": {
    "scrolled": true,
    "tags": []
   },
   "outputs": [],
   "source": [
    "%%capture\n",
    "%%bash\n",
    "\n",
    "# Install plink 1.9\n",
    "mkdir -p ~/tools\n",
    "cd ~/tools/\n",
    "if test -e ~/tools/plink; then\n",
    "    echo \"Plink is already installed\"\n",
    "else\n",
    "    echo \"Plink is not installed\"\n",
    "    cd ~/tools/\n",
    "\n",
    "    wget http://s3.amazonaws.com/plink1-assets/plink_linux_x86_64_20190304.zip \n",
    "\n",
    "    unzip -o plink_linux_x86_64_20190304.zip\n",
    "    mv plink plink1.9\n",
    "fi"
   ]
  },
  {
   "cell_type": "code",
   "execution_count": null,
   "id": "92a4a5fe-93e7-4f2b-bb93-e1b6f647b487",
   "metadata": {
    "tags": []
   },
   "outputs": [],
   "source": [
    "%%bash\n",
    "\n",
    "# chmod plink 1.9 to make sure you have permission to run the program\n",
    "chmod u+x ~/tools/plink1.9"
   ]
  },
  {
   "cell_type": "code",
   "execution_count": null,
   "id": "40d2e5a6-7738-4fe4-a0f6-b5b073010534",
   "metadata": {
    "tags": []
   },
   "outputs": [],
   "source": [
    "%%capture\n",
    "%%bash\n",
    "\n",
    "# Install plink 2.0\n",
    "cd ~/tools/\n",
    "if test -e ~/tools/plink2; then\n",
    "    echo \"Plink2 is already installed\"\n",
    "else\n",
    "    echo \"Plink2 is not installed\"\n",
    "    cd ~/tools/\n",
    "\n",
    "    wget http://s3.amazonaws.com/plink2-assets/plink2_linux_x86_64_latest.zip\n",
    "\n",
    "    unzip -o plink2_linux_x86_64_latest.zip\n",
    "fi"
   ]
  },
  {
   "cell_type": "code",
   "execution_count": null,
   "id": "6848fa32-7456-41ea-b566-e7e24765db8d",
   "metadata": {
    "tags": []
   },
   "outputs": [],
   "source": [
    "%%bash\n",
    "\n",
    "# chmod plink 2 to make sure you have permission to run the program\n",
    "chmod u+x ~/tools/plink2"
   ]
  },
  {
   "cell_type": "markdown",
   "id": "6dadabbc-cc9b-4645-9c66-978cf9b028b5",
   "metadata": {},
   "source": [
    "### 1.2. Install bcftools"
   ]
  },
  {
   "cell_type": "code",
   "execution_count": null,
   "id": "62343cb9-2b74-4c50-aafb-285d888fb557",
   "metadata": {
    "tags": []
   },
   "outputs": [],
   "source": [
    "%%capture\n",
    "%%bash \n",
    "\n",
    "#Install bcftools\n",
    "cd /home/jupyter/tools/\n",
    "\n",
    "if test -e /home/jupyter/tools/bcftools; then\n",
    "    echo \"bcftools is already installed in /home/jupyter/tools/\"\n",
    "else\n",
    "    echo -e \"Downloading bcftools \\n    -------\"\n",
    "    git clone --recurse-submodules https://github.com/samtools/htslib.git\n",
    "    git clone https://github.com/samtools/bcftools.git\n",
    "    cd bcftools\n",
    "    make\n",
    "    echo -e \"\\n bcftools downloaded and unzipped in /home/jupyter/tools \\n \"\n",
    "\n",
    "fi"
   ]
  },
  {
   "cell_type": "code",
   "execution_count": null,
   "id": "f4c65d20-df98-451f-8415-fd46acc3dfe3",
   "metadata": {
    "tags": []
   },
   "outputs": [],
   "source": [
    "%%bash\n",
    "\n",
    "# chmod bcftools to make sure you have permission to run the program\n",
    "chmod +x /home/jupyter/tools/bcftools"
   ]
  },
  {
   "cell_type": "markdown",
   "id": "4c0d9600-c31e-477b-b770-69afb0f01cf2",
   "metadata": {},
   "source": [
    "### 1.3. Install ANNOVAR"
   ]
  },
  {
   "cell_type": "code",
   "execution_count": null,
   "id": "4e2f11aa-d426-4fb8-b637-425bd67c503f",
   "metadata": {
    "tags": []
   },
   "outputs": [],
   "source": [
    "%%capture\n",
    "%%bash\n",
    "\n",
    "# Install ANNOVAR: We are adding the download link after registration on the annovar website\n",
    "# https://www.openbioinformatics.org/annovar/annovar_download_form.php\n",
    "\n",
    "if test -e ~/tools/annovar ; then\n",
    "    echo \"annovar is already installed in /home/jupyter/workspace/ws_files/fangz_workdir/annovar\"\n",
    "else\n",
    "    echo \"annovar is not installed\"\n",
    "    cd ~/tools\n",
    "\n",
    "    wget http://www.openbioinformatics.org/annovar/download/0wgxR2rIVP/annovar.latest.tar.gz\n",
    "\n",
    "    tar xvfz annovar.latest.tar.gz\n",
    "\n",
    "fi"
   ]
  },
  {
   "cell_type": "code",
   "execution_count": null,
   "id": "f7876140-4294-4fa7-b70c-b1fe9738247f",
   "metadata": {},
   "outputs": [],
   "source": [
    "%%capture\n",
    "%%bash\n",
    "\n",
    "# Install ANNOVAR: Download resources for annotation\n",
    "\n",
    "cd ~/tools/annovar\n",
    "perl annotate_variation.pl -buildver hg38 -downdb -webfrom annovar refGene humandb/\n",
    "perl annotate_variation.pl -buildver hg38 -downdb -webfrom annovar clinvar_20240917 humandb/\n",
    "perl annotate_variation.pl -buildver hg38 -downdb -webfrom annovar dbnsfp47a humandb/\n",
    "perl annotate_variation.pl -buildver hg38 -downdb -webfrom annovar gnomad41_genome humandb/"
   ]
  },
  {
   "cell_type": "markdown",
   "id": "436b6734-5d8c-4ffe-9796-dcbde5299064",
   "metadata": {},
   "source": [
    "### 1.4 Create working directory and set paths"
   ]
  },
  {
   "cell_type": "code",
   "execution_count": null,
   "id": "4491e69f-f73e-45ce-a1b0-346470b5e91b",
   "metadata": {
    "tags": []
   },
   "outputs": [],
   "source": [
    "# Create a folder on your workspace\n",
    "print(\"Making a working directory\")\n",
    "!mkdir -p /home/jupyter/workspace/ws_files/your_directory\n",
    "!mkdir -p /home/jupyter/workspace/ws_files/your_directory/bed_files\n",
    "!mkdir -p /home/jupyter/workspace/ws_files/your_directory/temp_files\n",
    "!mkdir -p /home/jupyter/workspace/ws_files/your_directory/results\n",
    "\n",
    "workdir=\"/home/jupyter/workspace/ws_files/your_directory\""
   ]
  },
  {
   "cell_type": "markdown",
   "id": "29a43a2d-bfbf-48b4-b346-39328787943a",
   "metadata": {},
   "source": [
    "## 2. Create and edit .bed file with genes of interest and genomic coordinates"
   ]
  },
  {
   "cell_type": "markdown",
   "id": "e282264f-b7cb-4c6c-baa5-638a3f93c26c",
   "metadata": {},
   "source": [
    "#### Create a .txt file with the gene information (include all genes in which you want to extract variant carriers)\n",
    "Use the following format: ```CHR START END GENE```\n",
    "\n",
    "**CHR** refers to the chromosome the gene is located on (e.g., chr1)\n",
    "\n",
    "**START** refers to the chromosomal position at which the gene starts\n",
    "\n",
    "**END** refers to the chromosomal position at which the gene ends\n",
    "\n",
    "**GENE** refers to the gene name (optional)\n",
    "\n",
    "Use the ensembl genome browser to obtain these information (https://useast.ensembl.org/index.html). "
   ]
  },
  {
   "cell_type": "code",
   "execution_count": null,
   "id": "3f69e413-7492-415e-b401-e32093a90744",
   "metadata": {},
   "outputs": [],
   "source": [
    "# Convert your .txt file into a .bed file\n",
    "input_file = \"/home/jupyter/workspace/ws_files/GP2_R8_CES_monogenic/docs/chrom_pos.txt\"\n",
    "output_file = \"/home/jupyter/workspace/ws_files/GP2_R8_CES_monogenic/docs/chrom_pos.bed\"\n",
    "\n",
    "with open(input_file, \"r\") as infile, open(output_file, \"w\") as outfile:\n",
    "    for line in infile:\n",
    "        cleaned_line = \"\\t\".join(line.strip().split())  # Replace spaces with actual tabs\n",
    "        outfile.write(cleaned_line + \"\\n\")\n",
    "\n",
    "print(\"Conversion complete! File saved as:\", output_file)"
   ]
  },
  {
   "cell_type": "code",
   "execution_count": null,
   "id": "da230334-75e2-4069-a5fa-50a0c3f34e7f",
   "metadata": {
    "tags": []
   },
   "outputs": [],
   "source": [
    "# Read in the bed file\n",
    "bed = pd.read_csv('/home/jupyter/workspace/ws_files/GP2_R8_monogenic/bed_files/chrom_pos.bed',sep='\\t',header=None,names=['chr','start_bp','stop_bp','gene'])\n",
    "bed"
   ]
  },
  {
   "cell_type": "markdown",
   "id": "a3c76d94-04a3-42ca-84fb-1348f1329df6",
   "metadata": {},
   "source": [
    "## 3. Extract variant carriers from WGS data"
   ]
  },
  {
   "cell_type": "markdown",
   "id": "297df6fd-705f-4fe7-8349-9a5459370087",
   "metadata": {
    "tags": []
   },
   "source": [
    "### AAC (as an example)"
   ]
  },
  {
   "cell_type": "code",
   "execution_count": null,
   "id": "37bea0d9",
   "metadata": {},
   "outputs": [],
   "source": [
    "# Find unique chromosomes in .bed files\n",
    "unique_chr=bed['chr'].unique().tolist()\n",
    "unique_chr"
   ]
  },
  {
   "cell_type": "code",
   "execution_count": null,
   "id": "f9a91283-952d-40c0-a482-bb4361ac50ca",
   "metadata": {
    "scrolled": true,
    "tags": []
   },
   "outputs": [],
   "source": [
    "# Define all the variables\n",
    "\n",
    "INPUT_PLINK_DIR=\"/home/jupyter/workspace/path/to/release8/wgs/deepvariant_joint_calling/plink\"\n",
    "PLINK2_PATH=\"/home/jupyter/tools/plink2\"\n",
    "dir_bed=\"/home/jupyter/workspace/ws_files/your_directory/bed_files\"\n",
    "TEMP_DIR=\"/home/jupyter/workspace/ws_files/your_directory/temp_files\"\n",
    "Ancestry=\"AAC\"\n",
    "\n",
    "# Extract variants we need from each chromosome\n",
    "for chrom in unique_chr:    \n",
    "    # Make the output directory if not exist\n",
    "    os.makedirs(f'{TEMP_DIR}/{Ancestry}', exist_ok=True)\n",
    "    \n",
    "    # Construct the command as a list \n",
    "    # Keep only variants with maf <0.05 in the dataset to keep the files small\n",
    "    # Since we are not interested in frequent variants\n",
    "    cmd = [\n",
    "        PLINK2_PATH,\n",
    "        \"--pfile\", f\"{INPUT_PLINK_DIR}/{Ancestry}/{chrom}_{Ancestry}_release8\",\n",
    "        \"--mac\", \"1\",\n",
    "        \"--extract\", \"bed1\", f\"{dir_bed}/{chrom}.bed\",\n",
    "        \"--make-pgen\",\n",
    "        \"--out\", f\"{TEMP_DIR}/{chrom}\"\n",
    "    ]\n",
    "\n",
    "    subprocess.run(cmd, check=True)"
   ]
  },
  {
   "cell_type": "code",
   "execution_count": null,
   "id": "eb1c9bfe-73af-4bd1-8103-fd0512b328e2",
   "metadata": {
    "tags": []
   },
   "outputs": [],
   "source": [
    "%%bash\n",
    "\n",
    "TEMP_DIR=\"/home/jupyter/workspace/ws_files/your_directory/temp_files\"\n",
    "Ancestry=\"AAC\"\n",
    "\n",
    "# Merge all the chrs and convert the final file to .vcf\n",
    "# For merging across pfiles https://www.cog-genomics.org/plink/2.0/data\n",
    "\n",
    "# List the files, sort by chromosome and remove .pgen from the filename\n",
    "ls ${TEMP_DIR}/*.pgen | sort -V  | sed 's/\\.pgen//g' > ${TEMP_DIR}/pfiles.list\n",
    "\n",
    "~/tools/plink2 --pmerge-list ${TEMP_DIR}/pfiles.list \\\n",
    "                           --recode vcf \\\n",
    "                           --out ${TEMP_DIR}/${Ancestry}"
   ]
  },
  {
   "cell_type": "code",
   "execution_count": null,
   "id": "0b012617-75d2-425b-89db-6a1754056a8c",
   "metadata": {
    "tags": []
   },
   "outputs": [],
   "source": [
    "%%bash\n",
    "# bgzip the vcf\n",
    "TEMP_DIR=\"/home/jupyter/workspace/ws_files/your_directory/temp_files\"\n",
    "Ancestry=\"AAC\"\n",
    "\n",
    "bgzip -c ${TEMP_DIR}/${Ancestry}.vcf > ${TEMP_DIR}/annovar_input_${Ancestry}.vcf.gz\n",
    "tabix -p vcf ${TEMP_DIR}/annovar_input_${Ancestry}.vcf.gz"
   ]
  },
  {
   "cell_type": "code",
   "execution_count": null,
   "id": "3bf0e11a-0056-4343-a70a-7156a5053a97",
   "metadata": {
    "tags": []
   },
   "outputs": [],
   "source": [
    "%%bash\n",
    "\n",
    "TEMP_DIR=\"/home/jupyter/workspace/ws_files/your_directory/temp_files\"\n",
    "\n",
    "# Run ANNOVAR annotation\n",
    "perl ~/tools/annovar/table_annovar.pl \\\n",
    "    /home/jupyter/workspace/ws_files/GP2_R8_AAC_monogenic/temp_files/annovar_input_AAC.vcf.gz \\\n",
    "    /home/jupyter/tools/annovar/humandb/ \\\n",
    "    -buildver hg38 \\\n",
    "    -out /home/jupyter/workspace/ws_files/GP2_R8_AAC_monogenic/results/wgs_mac1_final_AAC.annovar \\\n",
    "    -remove \\\n",
    "    -protocol refGene,gnomad41_genome,clinvar_20240917,dbnsfp47a \\\n",
    "    -operation g,f,f,f \\\n",
    "    -nastring . \\\n",
    "    -polish \\\n",
    "    -vcfinput"
   ]
  },
  {
   "cell_type": "code",
   "execution_count": null,
   "id": "bc447570-c965-48b0-9280-03799a756bda",
   "metadata": {
    "tags": []
   },
   "outputs": [],
   "source": [
    "%%bash \n",
    "\n",
    "head /home/jupyter/workspace/ws_files/your_directory/results/wgs_mac1_final_AAC.annovar.hg38_multianno.txt"
   ]
  },
  {
   "cell_type": "code",
   "execution_count": null,
   "id": "c578dfde-17b9-4558-b054-aa30fcedb8f8",
   "metadata": {
    "tags": []
   },
   "outputs": [],
   "source": [
    "workdir=\"/home/jupyter/workspace/ws_files/your_directory\"\n",
    "# Show columns of multianno.txt output file\n",
    "anno=pd.read_csv(f'{workdir}/results/wgs_mac1_final_AAC.annovar.hg38_multianno.txt',sep='\\t',dtype=str)\n",
    "\n",
    "# Find variant ID column\n",
    "anno['Otherinfo6']"
   ]
  },
  {
   "cell_type": "code",
   "execution_count": null,
   "id": "25e9f864-707a-4413-8f53-32b0d623d4d4",
   "metadata": {
    "scrolled": true,
    "tags": []
   },
   "outputs": [],
   "source": [
    "anno.columns.tolist()"
   ]
  },
  {
   "cell_type": "code",
   "execution_count": null,
   "id": "fb81c470-0616-46fa-9db2-0f48c0e169f9",
   "metadata": {
    "scrolled": true,
    "tags": []
   },
   "outputs": [],
   "source": [
    "# Select the columns to keep\n",
    "basic_cols= anno.columns.tolist()[0:10]\n",
    "additional_cols_to_keep=['Otherinfo6',\n",
    "                         'gnomad41_genome_fafmax_faf95_max',\n",
    "                         'CLNDN',\n",
    "                         'CLNSIG',\n",
    "                         'CADD_phred']\n",
    "            \n",
    "all_cols_to_keep= basic_cols+ additional_cols_to_keep\n",
    "all_cols_to_keep"
   ]
  },
  {
   "cell_type": "code",
   "execution_count": null,
   "id": "fbc143e9-31fa-4028-95e0-2344009ba7b6",
   "metadata": {
    "tags": []
   },
   "outputs": [],
   "source": [
    "# Subset the columns\n",
    "AAC_df=anno[all_cols_to_keep]\n",
    "\n",
    "# Rename column\n",
    "AAC_df.rename({'Otherinfo6':'var_id'},axis=1,inplace=True)\n",
    "\n",
    "AAC_df"
   ]
  },
  {
   "cell_type": "code",
   "execution_count": null,
   "id": "6704bbd1-60b7-4984-aae9-8ebaa9b2b6b1",
   "metadata": {
    "tags": []
   },
   "outputs": [],
   "source": [
    "# Count occurrences of each value\n",
    "value_counts = AAC_df[\"ExonicFunc.refGene\"].value_counts()\n",
    "\n",
    "# Display counts\n",
    "print(value_counts)"
   ]
  },
  {
   "cell_type": "markdown",
   "id": "6778f256-7e6c-4968-b398-246ef77e45b0",
   "metadata": {},
   "source": [
    "#### 3.1 Filter variants"
   ]
  },
  {
   "cell_type": "code",
   "execution_count": null,
   "id": "c0ee6d8d-7954-48b3-b674-c735b370a0cb",
   "metadata": {
    "tags": []
   },
   "outputs": [],
   "source": [
    "# Define the values you want to keep\n",
    "keep_values = [\"exonic\", \"splicing\", \"exonic;splicing\"]  # Add more if needed\n",
    "\n",
    "# Subset the dataframe\n",
    "filtered_AAC_df = AAC_df[AAC_df[\"Func.refGene\"].isin(keep_values)]\n",
    "\n",
    "# Display the filtered dataframe\n",
    "print (filtered_AAC_df.head())\n"
   ]
  },
  {
   "cell_type": "code",
   "execution_count": null,
   "id": "7dd1598a-451c-4189-bcff-088ec292ff46",
   "metadata": {
    "tags": []
   },
   "outputs": [],
   "source": [
    "# Filter out synonymous SNVs\n",
    "filtered_AAC_df = filtered_AAC_df[filtered_AAC_df[\"ExonicFunc.refGene\"] != \"synonymous SNV\"]\n",
    "\n",
    "# Display the filtered dataframe\n",
    "print (filtered_AAC_df.head())"
   ]
  },
  {
   "cell_type": "code",
   "execution_count": null,
   "id": "5c4dcf37-6cdb-4866-a825-b6d0db32a95d",
   "metadata": {
    "tags": []
   },
   "outputs": [],
   "source": [
    "# Save the filtered output\n",
    "filtered_AAC_df.to_csv(f\"{workdir}/results/filtered_multianno_AAC.tsv\", sep=\"\\t\", index=False)\n",
    "\n",
    "# Write out 'var_id' to extract from plink files\n",
    "filtered_AAC_df['var_id'].to_csv(f\"{workdir}/results/AAC_var_to_extract.txt\",index=False,header=False)\n"
   ]
  },
  {
   "cell_type": "markdown",
   "id": "734ffe74-9e99-4633-a96a-b11f56e9086e",
   "metadata": {
    "tags": []
   },
   "source": [
    "####  3.2 Extract carrier IDs and genotypes"
   ]
  },
  {
   "cell_type": "code",
   "execution_count": null,
   "id": "bc863e69-2cd7-4b42-9899-4b8e6e83df88",
   "metadata": {
    "tags": []
   },
   "outputs": [],
   "source": [
    "%%bash\n",
    "workdir=\"/home/jupyter/workspace/ws_files/your_directory\"\n",
    "TEMP_DIR=\"/home/jupyter/workspace/ws_files/your_directory/temp_files\"\n",
    "Ancestry=\"AAC\"\n",
    "\n",
    "~/tools/plink2 --pfile ${TEMP_DIR}/${Ancestry} \\\n",
    "               --extract ${workdir}/results/${Ancestry}_var_to_extract.txt \\\n",
    "               --recode A \\\n",
    "               --out ${TEMP_DIR}/${Ancestry}_geno\n",
    "               "
   ]
  },
  {
   "cell_type": "code",
   "execution_count": null,
   "id": "e73e5dee-2d61-4053-9bfb-12c2de66126e",
   "metadata": {
    "tags": []
   },
   "outputs": [],
   "source": [
    "TEMP_DIR=\"/home/jupyter/workspace/ws_files/your_directory/temp_files\"\n",
    "Ancestry=\"AAC\"\n",
    "\n",
    "aac_var = pd.read_csv(f'{TEMP_DIR}/{Ancestry}_geno.raw', sep='\\s+')\n",
    "aac_var"
   ]
  },
  {
   "cell_type": "code",
   "execution_count": null,
   "id": "d5c0b41f-1f88-4615-8337-6841b87dcfec",
   "metadata": {
    "tags": []
   },
   "outputs": [],
   "source": [
    "# Transpose the dataframe to be row as variants and columns as samples\n",
    "var_col=aac_var.columns[6:len(aac_var)]\n",
    "d = aac_var.drop(columns=['FID','PAT','MAT','SEX','PHENOTYPE'])\n",
    "sample=aac_var[['IID','PHENOTYPE']]\n",
    "\n",
    "# Filtering rows where any value in 'var_col' is ≤1 (either het or hom)\n",
    "t=d[(d[var_col]<=1).any(axis=1)].T\n",
    "t.columns = t.iloc[0]\n",
    "t=t.iloc[1:]\n",
    "t.reset_index(inplace=True)\n",
    "\n",
    "t"
   ]
  },
  {
   "cell_type": "code",
   "execution_count": null,
   "id": "a6227043-4bcb-42a3-a2f7-f57861932c82",
   "metadata": {
    "tags": []
   },
   "outputs": [],
   "source": [
    "# Strip the last '_${ref_allele}', so we can keep the same variant id as in annotation \n",
    "t['index'] = t['index'].str.rsplit('_', n=1).str[0]\n",
    "t.rename({'index':'var_id'},axis=1,inplace=True)\n",
    "t"
   ]
  },
  {
   "cell_type": "code",
   "execution_count": null,
   "id": "6a27156e-1b52-4e42-b1c3-3d9f74e0b199",
   "metadata": {
    "tags": []
   },
   "outputs": [],
   "source": [
    "t['hom_carrier'] = t.apply(lambda row: row[row == 0].index.tolist() , axis=1)\n",
    "t['het_carrier'] = t.apply(lambda row: row[row == 1].index.tolist() , axis=1)  \n",
    "\n",
    "# Store hom and het seperately to later explode the dataframe correctly\n",
    "hom = t[['var_id','hom_carrier']]\n",
    "het = t[['var_id','het_carrier']]"
   ]
  },
  {
   "cell_type": "code",
   "execution_count": null,
   "id": "592af5e2-627e-4f20-8414-740b97026089",
   "metadata": {
    "tags": []
   },
   "outputs": [],
   "source": [
    "# Check hom as example what to expect\n",
    "hom"
   ]
  },
  {
   "cell_type": "code",
   "execution_count": null,
   "id": "beec7dfc-2321-4d82-bbda-ebc16397c4b4",
   "metadata": {
    "tags": []
   },
   "outputs": [],
   "source": [
    "# Split the carrier ID from the list and each to a row\n",
    "hom = hom.explode('hom_carrier', ignore_index=True)\n",
    "\n",
    "hom"
   ]
  },
  {
   "cell_type": "code",
   "execution_count": null,
   "id": "4b350696-2578-4d8f-977d-3563a15f31e0",
   "metadata": {
    "tags": []
   },
   "outputs": [],
   "source": [
    "# Keep just the variants with carriers\n",
    "hom= hom.loc[~hom['hom_carrier'].isnull()]\n",
    "\n",
    "hom"
   ]
  },
  {
   "cell_type": "code",
   "execution_count": null,
   "id": "1104e003-73c0-489c-acd2-17e8407f658c",
   "metadata": {
    "tags": []
   },
   "outputs": [],
   "source": [
    "# Merge with annotation\n",
    "out_hom = pd.merge(hom,filtered_AAC_df, on='var_id',how='left')\n",
    "out_hom['zygosity'] = 'hom'\n",
    "\n",
    "# Rename column\n",
    "out_hom.rename({'hom_carrier':'carrier_id'},axis=1,inplace=True)\n",
    "\n",
    "out_hom"
   ]
  },
  {
   "cell_type": "code",
   "execution_count": null,
   "id": "2de67158-6ba4-40bf-9882-b4278030adac",
   "metadata": {
    "tags": []
   },
   "outputs": [],
   "source": [
    "# Repeat the same for het\n",
    "het = het.explode('het_carrier', ignore_index=True)\n",
    "het= het.loc[~het['het_carrier'].isnull()]\n",
    "\n",
    "het"
   ]
  },
  {
   "cell_type": "code",
   "execution_count": null,
   "id": "dbcab8cd-0766-407c-913d-13a2ad413a13",
   "metadata": {
    "tags": []
   },
   "outputs": [],
   "source": [
    "# Merge with annotation\n",
    "out_het = pd.merge(het,filtered_AAC_df, on='var_id',how='left')\n",
    "out_het['zygosity'] = 'het'\n",
    "\n",
    "# Rename column\n",
    "out_het.rename({'het_carrier':'carrier_id'},axis=1,inplace=True)\n",
    "\n",
    "out_het"
   ]
  },
  {
   "cell_type": "code",
   "execution_count": null,
   "id": "2959ad48-c661-4aaa-aeb0-87dfb5d898cd",
   "metadata": {
    "tags": []
   },
   "outputs": [],
   "source": [
    "# Check if there's any comphet by grouping gene and sample ID\n",
    "pd.concat(g for _, g in out_het.groupby([\"Gene.refGene\",\"carrier_id\"]) if len(g) > 1)"
   ]
  },
  {
   "cell_type": "code",
   "execution_count": null,
   "id": "b4a1d415-209c-4621-9778-21003fc2d4f7",
   "metadata": {
    "tags": []
   },
   "outputs": [],
   "source": [
    "# Write out comphet\n",
    "comphet = pd.concat(g for _, g in out_het.groupby([\"Gene.refGene\",\"carrier_id\"]) if len(g) > 1)\n",
    "comphet['zygosity'] = 'comphet'"
   ]
  },
  {
   "cell_type": "code",
   "execution_count": null,
   "id": "d190c01f-f2c5-40ba-b058-c12c68c72ea2",
   "metadata": {},
   "outputs": [],
   "source": [
    "# Get everything and write out\n",
    "merged_df_AAC = pd.concat([out_het,out_hom,comphet],axis=0)\n",
    "\n",
    "# Save the dataset\n",
    "merged_df_AAC.to_csv(f\"{workdir}/results/results_AAC.tsv\",sep='\\t',index=False)"
   ]
  },
  {
   "cell_type": "markdown",
   "id": "167511bc-2bfa-424d-a4c0-8a3c20a6754c",
   "metadata": {},
   "source": [
    "### Now repeat the same steps for all other ancestries (AFR, AJ, AMR, CAH, CAS, EAS, EUR, FIN, MDE, SAS)!"
   ]
  },
  {
   "cell_type": "markdown",
   "id": "1450e000-804e-4cc6-9c18-0cefd963b389",
   "metadata": {},
   "source": [
    "## 4. CES variant extraction"
   ]
  },
  {
   "cell_type": "markdown",
   "id": "dec90c0d",
   "metadata": {},
   "source": [
    "## AAC (as an example)"
   ]
  },
  {
   "cell_type": "code",
   "execution_count": null,
   "id": "875bf169-bbe3-490d-92d9-adb9ec06f8e0",
   "metadata": {},
   "outputs": [],
   "source": [
    "# To extract variants from CES data, use the same script but update the input path to the genetic files\n",
    "INPUT_PLINK_DIR=\"/home/jupyter/workspace/path/to/release8/clinical_exomes/deepvariant_joint_calling/plink\""
   ]
  },
  {
   "cell_type": "code",
   "execution_count": null,
   "id": "b809a40e-bdb7-4a8d-9889-7b72ac7ad3e7",
   "metadata": {
    "tags": []
   },
   "outputs": [],
   "source": [
    "# Create a folder on your workspace\n",
    "print(\"Making a working directory\")\n",
    "!mkdir -p /home/jupyter/workspace/ws_files/GP2_R8_AAC_monogenic\n",
    "!mkdir -p /home/jupyter/workspace/ws_files/GP2_R8_monogenic/bed_files\n",
    "!mkdir -p /home/jupyter/workspace/ws_files/GP2_R8_AAC_monogenic/temp_files\n",
    "!mkdir -p /home/jupyter/workspace/ws_files/GP2_R8_AAC_monogenic/results\n",
    "\n",
    "workdir=\"/home/jupyter/workspace/ws_files/GP2_R8_AAC_monogenic\""
   ]
  },
  {
   "cell_type": "code",
   "execution_count": null,
   "id": "7343951b-c1b8-4801-aadc-280a612baa38",
   "metadata": {
    "tags": []
   },
   "outputs": [],
   "source": [
    "# Find unique chromosomes in .bed files\n",
    "unique_chr=bed['chr'].unique().tolist()\n",
    "unique_chr"
   ]
  },
  {
   "cell_type": "code",
   "execution_count": null,
   "id": "9b097089-9832-4706-9810-f7fbd84ab6a8",
   "metadata": {
    "scrolled": true,
    "tags": []
   },
   "outputs": [],
   "source": [
    "# Define all the variables\n",
    "\n",
    "INPUT_PLINK_DIR=\"/home/jupyter/workspace/path/to/release8/wgs/deepvariant_joint_calling/plink\"\n",
    "PLINK2_PATH=\"/home/jupyter/tools/plink2\"\n",
    "dir_bed=\"/home/jupyter/workspace/ws_files/GP2_R8_monogenic/bed_files\"\n",
    "TEMP_DIR=\"/home/jupyter/workspace/ws_files/GP2_R8_AAC_monogenic/temp_files\"\n",
    "Ancestry=\"AAC\"\n",
    "\n",
    "# Extract variants we need from each chromosome\n",
    "for chrom in unique_chr:    \n",
    "    # Make the output directory if not exist\n",
    "    os.makedirs(f'{TEMP_DIR}/{Ancestry}', exist_ok=True)\n",
    "    \n",
    "    # Construct the command as a list \n",
    "    # Keep only variants with maf <0.05 in the dataset to keep the files small\n",
    "    # Since we are not interested in frequent variants\n",
    "    cmd = [\n",
    "        PLINK2_PATH,\n",
    "        \"--pfile\", f\"{INPUT_PLINK_DIR}/{Ancestry}/{chrom}_{Ancestry}_release8\",\n",
    "        \"--mac\", \"1\",\n",
    "        \"--extract\", \"bed1\", f\"{dir_bed}/{chrom}.bed\",\n",
    "        \"--make-pgen\",\n",
    "        \"--out\", f\"{TEMP_DIR}/{chrom}\"\n",
    "    ]\n",
    "\n",
    "    subprocess.run(cmd, check=True)"
   ]
  },
  {
   "cell_type": "code",
   "execution_count": null,
   "id": "1fa15062-0ca1-4c4d-884f-10ef118c846e",
   "metadata": {
    "tags": []
   },
   "outputs": [],
   "source": [
    "%%bash\n",
    "\n",
    "TEMP_DIR=\"/home/jupyter/workspace/ws_files/GP2_R8_AAC_monogenic/temp_files\"\n",
    "Ancestry=\"AAC\"\n",
    "\n",
    "# Merge all the chrs and convert the final file to .vcf\n",
    "# For merging across pfiles https://www.cog-genomics.org/plink/2.0/data\n",
    "\n",
    "# List the files, sort by chromosome and remove .pgen from the filename\n",
    "ls ${TEMP_DIR}/*.pgen | sort -V  | sed 's/\\.pgen//g' > ${TEMP_DIR}/pfiles.list\n",
    "\n",
    "~/tools/plink2 --pmerge-list ${TEMP_DIR}/pfiles.list \\\n",
    "                           --recode vcf \\\n",
    "                           --out ${TEMP_DIR}/${Ancestry}"
   ]
  },
  {
   "cell_type": "code",
   "execution_count": null,
   "id": "c90305af-b1ce-41b1-8372-7f0ab39d411c",
   "metadata": {
    "tags": []
   },
   "outputs": [],
   "source": [
    "%%bash\n",
    "# bgzip the vcf\n",
    "TEMP_DIR=\"/home/jupyter/workspace/ws_files/GP2_R8_AAC_monogenic/temp_files\"\n",
    "Ancestry=\"AAC\"\n",
    "\n",
    "bgzip -c ${TEMP_DIR}/${Ancestry}.vcf > ${TEMP_DIR}/annovar_input_${Ancestry}.vcf.gz\n",
    "tabix -p vcf ${TEMP_DIR}/annovar_input_${Ancestry}.vcf.gz"
   ]
  },
  {
   "cell_type": "code",
   "execution_count": null,
   "id": "378ed9af-feb4-457e-bde0-a4b9400e7ad6",
   "metadata": {
    "tags": []
   },
   "outputs": [],
   "source": [
    "%%bash\n",
    "\n",
    "TEMP_DIR=\"/home/jupyter/workspace/ws_files/GP2_R8_AAC_monogenic/temp_files\"\n",
    "\n",
    "# Run ANNOVAR annotation\n",
    "perl ~/tools/annovar/table_annovar.pl \\\n",
    "    /home/jupyter/workspace/ws_files/GP2_R8_AAC_monogenic/temp_files/annovar_input_AAC.vcf.gz \\\n",
    "    /home/jupyter/tools/annovar/humandb/ \\\n",
    "    -buildver hg38 \\\n",
    "    -out /home/jupyter/workspace/ws_files/GP2_R8_AAC_monogenic/results/wgs_mac1_final_AAC.annovar \\\n",
    "    -remove \\\n",
    "    -protocol refGene,gnomad41_genome,clinvar_20240917,dbnsfp47a \\\n",
    "    -operation g,f,f,f \\\n",
    "    -nastring . \\\n",
    "    -polish \\\n",
    "    -vcfinput"
   ]
  },
  {
   "cell_type": "code",
   "execution_count": null,
   "id": "6d557b4f-ee29-4289-a8c4-f0416e1977d1",
   "metadata": {
    "tags": []
   },
   "outputs": [],
   "source": [
    "%%bash \n",
    "\n",
    "head /home/jupyter/workspace/ws_files/GP2_R8_AAC_monogenic/results/wgs_mac1_final_AAC.annovar.hg38_multianno.txt"
   ]
  },
  {
   "cell_type": "code",
   "execution_count": null,
   "id": "93c97d34-6201-4ac9-9740-8d2ac45ffc65",
   "metadata": {
    "tags": []
   },
   "outputs": [],
   "source": [
    "workdir=\"/home/jupyter/workspace/ws_files/GP2_R8_AAC_monogenic\"\n",
    "# Show columns of multianno.txt output file\n",
    "anno=pd.read_csv(f'{workdir}/results/wgs_mac1_final_AAC.annovar.hg38_multianno.txt',sep='\\t',dtype=str)\n",
    "\n",
    "# Find variant ID column\n",
    "anno['Otherinfo6']"
   ]
  },
  {
   "cell_type": "code",
   "execution_count": null,
   "id": "bcb35d3b-221b-43da-8c06-37571ecb728e",
   "metadata": {
    "scrolled": true,
    "tags": []
   },
   "outputs": [],
   "source": [
    "anno.columns.tolist()"
   ]
  },
  {
   "cell_type": "code",
   "execution_count": null,
   "id": "a4f30321-02a2-4d37-a177-d6bff3dc7a98",
   "metadata": {
    "scrolled": true,
    "tags": []
   },
   "outputs": [],
   "source": [
    "# Select the columns to keep\n",
    "basic_cols= anno.columns.tolist()[0:10]\n",
    "additional_cols_to_keep=['Otherinfo6',\n",
    "                         'gnomad41_genome_fafmax_faf95_max',\n",
    "                         'CLNDN',\n",
    "                         'CLNSIG',\n",
    "                         'CADD_phred']\n",
    "            \n",
    "all_cols_to_keep= basic_cols+ additional_cols_to_keep\n",
    "all_cols_to_keep"
   ]
  },
  {
   "cell_type": "code",
   "execution_count": null,
   "id": "f62b0a58-994f-45e3-aea1-b3d97c89367e",
   "metadata": {
    "tags": []
   },
   "outputs": [],
   "source": [
    "# Subset the columns\n",
    "AAC_df=anno[all_cols_to_keep]\n",
    "\n",
    "# Rename column\n",
    "AAC_df.rename({'Otherinfo6':'var_id'},axis=1,inplace=True)\n",
    "\n",
    "AAC_df"
   ]
  },
  {
   "cell_type": "code",
   "execution_count": null,
   "id": "24adc33f-3dfb-44dc-aba5-00cd4e544c7e",
   "metadata": {
    "tags": []
   },
   "outputs": [],
   "source": [
    "# Count occurrences of each value\n",
    "value_counts = AAC_df[\"ExonicFunc.refGene\"].value_counts()\n",
    "\n",
    "# Display counts\n",
    "print(value_counts)"
   ]
  },
  {
   "cell_type": "markdown",
   "id": "0c1852e1-04dd-4580-a7ba-4559adf52f4e",
   "metadata": {},
   "source": [
    "#### 4.1 Filter variants"
   ]
  },
  {
   "cell_type": "code",
   "execution_count": null,
   "id": "0135386e-d3f7-4b4f-ac22-11163d4721c2",
   "metadata": {
    "tags": []
   },
   "outputs": [],
   "source": [
    "# Define the values you want to keep\n",
    "keep_values = [\"exonic\", \"splicing\", \"exonic;splicing\"]  # Add more if needed\n",
    "\n",
    "# Subset the dataframe\n",
    "filtered_AAC_df = AAC_df[AAC_df[\"Func.refGene\"].isin(keep_values)]\n",
    "\n",
    "# Display the filtered dataframe\n",
    "print (filtered_AAC_df.head())\n"
   ]
  },
  {
   "cell_type": "code",
   "execution_count": null,
   "id": "a39b0483-d29c-4b96-971b-66c6989ff05a",
   "metadata": {
    "tags": []
   },
   "outputs": [],
   "source": [
    "# Filter out synonymous SNVs\n",
    "filtered_AAC_df = filtered_AAC_df[filtered_AAC_df[\"ExonicFunc.refGene\"] != \"synonymous SNV\"]\n",
    "\n",
    "# Display the filtered dataframe\n",
    "print (filtered_AAC_df.head())"
   ]
  },
  {
   "cell_type": "code",
   "execution_count": null,
   "id": "510cc5e9-e48f-42ef-8671-5aee7cbd5d0b",
   "metadata": {
    "tags": []
   },
   "outputs": [],
   "source": [
    "# Save the filtered output\n",
    "filtered_AAC_df.to_csv(f\"{workdir}/results/filtered_multianno_AAC.tsv\", sep=\"\\t\", index=False)\n",
    "\n",
    "# Write out 'var_id' to extract from plink files\n",
    "filtered_AAC_df['var_id'].to_csv(f\"{workdir}/results/AAC_var_to_extract.txt\",index=False,header=False)\n"
   ]
  },
  {
   "cell_type": "markdown",
   "id": "1bcab158-34c2-458c-9f0d-b8e4964277ef",
   "metadata": {
    "tags": []
   },
   "source": [
    "#### 4.2 Extract carrier IDs and genotypes"
   ]
  },
  {
   "cell_type": "markdown",
   "id": "98e0c1e4-c11d-4107-9520-66d64fcb046f",
   "metadata": {},
   "source": [
    "I would just extract the variants you are interested from the annovar annotation, and you can start from the plink files generated from the merge"
   ]
  },
  {
   "cell_type": "code",
   "execution_count": null,
   "id": "866ca47d-113d-4197-9141-15e03e8c030b",
   "metadata": {
    "tags": []
   },
   "outputs": [],
   "source": [
    "%%bash\n",
    "workdir=\"/home/jupyter/workspace/ws_files/GP2_R8_AAC_monogenic\"\n",
    "TEMP_DIR=\"/home/jupyter/workspace/ws_files/GP2_R8_AAC_monogenic/temp_files\"\n",
    "Ancestry=\"AAC\"\n",
    "\n",
    "~/tools/plink2 --pfile ${TEMP_DIR}/${Ancestry} \\\n",
    "               --extract ${workdir}/results/${Ancestry}_var_to_extract.txt \\\n",
    "               --recode A \\\n",
    "               --out ${TEMP_DIR}/${Ancestry}_geno\n",
    "               "
   ]
  },
  {
   "cell_type": "code",
   "execution_count": null,
   "id": "6ad9031b-995f-43e1-b3ca-0c390e5c2a67",
   "metadata": {
    "tags": []
   },
   "outputs": [],
   "source": [
    "TEMP_DIR=\"/home/jupyter/workspace/ws_files/GP2_R8_AAC_monogenic/temp_files\"\n",
    "Ancestry=\"AAC\"\n",
    "\n",
    "aac_var = pd.read_csv(f'{TEMP_DIR}/{Ancestry}_geno.raw', sep='\\s+')\n",
    "aac_var"
   ]
  },
  {
   "cell_type": "markdown",
   "id": "49d084e9-0347-4e83-8e47-1f79a8c5ddec",
   "metadata": {},
   "source": [
    "From here you can run similar code for NBA to collect variant carriers "
   ]
  },
  {
   "cell_type": "code",
   "execution_count": null,
   "id": "819ff067-cef2-432f-935a-0e8ad66c7a3e",
   "metadata": {
    "tags": []
   },
   "outputs": [],
   "source": [
    "# Transpose the dataframe to be row as variants and columns as samples\n",
    "var_col=aac_var.columns[6:len(aac_var)]\n",
    "d = aac_var.drop(columns=['FID','PAT','MAT','SEX','PHENOTYPE'])\n",
    "sample=aac_var[['IID','PHENOTYPE']]\n",
    "\n",
    "# Filtering rows where any value in 'var_col' is ≤1 (either het or hom)\n",
    "t=d[(d[var_col]<=1).any(axis=1)].T\n",
    "t.columns = t.iloc[0]\n",
    "t=t.iloc[1:]\n",
    "t.reset_index(inplace=True)\n",
    "\n",
    "t"
   ]
  },
  {
   "cell_type": "code",
   "execution_count": null,
   "id": "11ddf378-0704-47da-aee0-374ececf6f30",
   "metadata": {
    "tags": []
   },
   "outputs": [],
   "source": [
    "# Strip the last '_${ref_allele}', so we can keep the same variant id as in annotation \n",
    "t['index'] = t['index'].str.rsplit('_', n=1).str[0]\n",
    "t.rename({'index':'var_id'},axis=1,inplace=True)\n",
    "t"
   ]
  },
  {
   "cell_type": "code",
   "execution_count": null,
   "id": "10471d73-3d37-43ae-918b-1ca29e273986",
   "metadata": {
    "tags": []
   },
   "outputs": [],
   "source": [
    "t['hom_carrier'] = t.apply(lambda row: row[row == 0].index.tolist() , axis=1)\n",
    "t['het_carrier'] = t.apply(lambda row: row[row == 1].index.tolist() , axis=1)  \n",
    "\n",
    "# Store hom and het seperately to later explode the dataframe correctly\n",
    "hom = t[['var_id','hom_carrier']]\n",
    "het = t[['var_id','het_carrier']]\n",
    "\n"
   ]
  },
  {
   "cell_type": "code",
   "execution_count": null,
   "id": "dcd15e57-9e0e-4fc7-983a-d0f8ccb9b06f",
   "metadata": {
    "tags": []
   },
   "outputs": [],
   "source": [
    "# Check hom as example what to expect\n",
    "hom"
   ]
  },
  {
   "cell_type": "code",
   "execution_count": null,
   "id": "ca3adde5-1f7a-42bd-a5e6-71c8409a7dd8",
   "metadata": {
    "tags": []
   },
   "outputs": [],
   "source": [
    "# Split the carrier ID from the list and each to a row\n",
    "hom = hom.explode('hom_carrier', ignore_index=True)\n",
    "\n",
    "hom"
   ]
  },
  {
   "cell_type": "code",
   "execution_count": null,
   "id": "7a0d2958-e6a2-4147-be6f-1124a69d0ec6",
   "metadata": {
    "tags": []
   },
   "outputs": [],
   "source": [
    "# Keep just the variants with carriers\n",
    "hom= hom.loc[~hom['hom_carrier'].isnull()]\n",
    "\n",
    "hom"
   ]
  },
  {
   "cell_type": "code",
   "execution_count": null,
   "id": "3832d42a-8a27-48e9-a299-f8e55e6c31ed",
   "metadata": {
    "tags": []
   },
   "outputs": [],
   "source": [
    "# Merge with annotation\n",
    "out_hom = pd.merge(hom,filtered_AAC_df, on='var_id',how='left')\n",
    "out_hom['zygosity'] = 'hom'\n",
    "\n",
    "# Rename column\n",
    "out_hom.rename({'hom_carrier':'carrier_id'},axis=1,inplace=True)\n",
    "\n",
    "out_hom"
   ]
  },
  {
   "cell_type": "code",
   "execution_count": null,
   "id": "25feaf78-3d8e-4ed5-9749-9632ab327f9c",
   "metadata": {
    "tags": []
   },
   "outputs": [],
   "source": [
    "# Repeat the same for het\n",
    "het = het.explode('het_carrier', ignore_index=True)\n",
    "het= het.loc[~het['het_carrier'].isnull()]\n",
    "\n",
    "het"
   ]
  },
  {
   "cell_type": "code",
   "execution_count": null,
   "id": "824b02d9-8df0-455f-ac3c-12c3de2cb7de",
   "metadata": {
    "tags": []
   },
   "outputs": [],
   "source": [
    "# Merge with annotation\n",
    "out_het = pd.merge(het,filtered_AAC_df, on='var_id',how='left')\n",
    "out_het['zygosity'] = 'het'\n",
    "\n",
    "# Rename col\n",
    "out_het.rename({'het_carrier':'carrier_id'},axis=1,inplace=True)\n",
    "\n",
    "out_het\n"
   ]
  },
  {
   "cell_type": "code",
   "execution_count": null,
   "id": "d088b56b-f114-4359-95b3-0c68334ddc0e",
   "metadata": {
    "tags": []
   },
   "outputs": [],
   "source": [
    "# Check if there's any comphet by grouping gene and sample ID\n",
    "pd.concat(g for _, g in out_het.groupby([\"Gene.refGene\",\"carrier_id\"]) if len(g) > 1)\n"
   ]
  },
  {
   "cell_type": "code",
   "execution_count": null,
   "id": "b4a66b3e-201e-48c0-afe0-15f1ebc184b1",
   "metadata": {
    "tags": []
   },
   "outputs": [],
   "source": [
    "# Write out comphet\n",
    "comphet = pd.concat(g for _, g in out_het.groupby([\"Gene.refGene\",\"carrier_id\"]) if len(g) > 1)\n",
    "comphet['zygosity'] = 'comphet'"
   ]
  },
  {
   "cell_type": "code",
   "execution_count": null,
   "id": "25b62989-f43a-4739-a6ba-67c3a1851b3b",
   "metadata": {
    "tags": []
   },
   "outputs": [],
   "source": [
    "# Get everything and write out\n",
    "merged_df_AAC = pd.concat([out_het,out_hom,comphet],axis=0)\n",
    "\n",
    "# Save the dataset\n",
    "merged_df_AAC.to_csv(f\"{workdir}/results/merged_genotypes_AAC_mac1.tsv\",sep='\\t',index=False)"
   ]
  },
  {
   "cell_type": "markdown",
   "id": "e0b2681a",
   "metadata": {},
   "source": [
    "### Now repeat the same steps for all other ancestries (AFR, AJ, AMR, CAH, CAS, EAS, EUR, FIN, MDE, SAS)!"
   ]
  }
 ],
 "metadata": {
  "environment": {
   "kernel": "python3",
   "name": "r-cpu.m127",
   "type": "gcloud",
   "uri": "us-docker.pkg.dev/deeplearning-platform-release/gcr.io/r-cpu:m127"
  },
  "kernelspec": {
   "display_name": "Python 3 (Local)",
   "language": "python",
   "name": "python3"
  },
  "language_info": {
   "codemirror_mode": {
    "name": "ipython",
    "version": 3
   },
   "file_extension": ".py",
   "mimetype": "text/x-python",
   "name": "python",
   "nbconvert_exporter": "python",
   "pygments_lexer": "ipython3",
   "version": "3.10.16"
  }
 },
 "nbformat": 4,
 "nbformat_minor": 5
}
